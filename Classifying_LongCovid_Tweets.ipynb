{
  "cells": [
    {
      "cell_type": "markdown",
      "metadata": {
        "id": "view-in-github",
        "colab_type": "text"
      },
      "source": [
        "<a href=\"https://colab.research.google.com/github/Saveska/LongCovid-Tweets-Analysis/blob/main/Classifying_LongCovid_Tweets.ipynb\" target=\"_parent\"><img src=\"https://colab.research.google.com/assets/colab-badge.svg\" alt=\"Open In Colab\"/></a>"
      ]
    },
    {
      "cell_type": "markdown",
      "metadata": {
        "id": "0_fnLz91IEhU"
      },
      "source": [
        "#Classify #LongCovid tweets into different categories, such as symptoms, treatments, personal experiences, or scientific research"
      ]
    },
    {
      "cell_type": "code",
      "execution_count": 1,
      "metadata": {
        "id": "EylSvWdOIXL4"
      },
      "outputs": [],
      "source": [
        "import pandas as pd\n",
        "import numpy as np\n",
        "from sklearn.model_selection import train_test_split\n",
        "from sklearn.preprocessing import StandardScaler\n",
        "from sklearn.svm import SVC\n",
        "from sklearn.metrics import accuracy_score, precision_score, recall_score\n",
        "from gensim.models import Word2Vec\n",
        "from sklearn.metrics import classification_report\n",
        "\n",
        "import re\n",
        "import tqdm\n",
        "import nltk # for tokenization\n",
        "import spacy\n",
        "import string\n",
        "\n",
        "import seaborn as sns\n",
        "import matplotlib.pyplot as plt\n",
        "%matplotlib inline"
      ]
    },
    {
      "cell_type": "markdown",
      "metadata": {
        "id": "MqtEaWIrMofJ"
      },
      "source": [
        "## Read data"
      ]
    },
    {
      "cell_type": "code",
      "execution_count": 2,
      "metadata": {
        "colab": {
          "base_uri": "https://localhost:8080/"
        },
        "id": "urzE2N13Kyqv",
        "outputId": "c4b9c6be-7ec6-4c96-c9ff-81cfcde2a036"
      },
      "outputs": [
        {
          "output_type": "stream",
          "name": "stdout",
          "text": [
            "Drive already mounted at /content/drive; to attempt to forcibly remount, call drive.mount(\"/content/drive\", force_remount=True).\n"
          ]
        }
      ],
      "source": [
        "from google.colab import drive\n",
        "drive.mount('/content/drive')"
      ]
    },
    {
      "cell_type": "code",
      "execution_count": 3,
      "metadata": {
        "id": "0akoOXqqMqud"
      },
      "outputs": [],
      "source": [
        "data = pd.read_csv('/content/drive/MyDrive/Colab Notebooks/datasets/lc2022.csv')"
      ]
    },
    {
      "cell_type": "code",
      "execution_count": 4,
      "metadata": {
        "colab": {
          "base_uri": "https://localhost:8080/",
          "height": 423
        },
        "id": "5dDhcdSrMyF7",
        "outputId": "2bbb858f-a09b-4370-91d8-13099b81b9a6"
      },
      "outputs": [
        {
          "output_type": "execute_result",
          "data": {
            "text/plain": [
              "                              Date             User  \\\n",
              "0        2022-01-31 23:59:18+00:00    RobocapFriend   \n",
              "1        2022-01-31 23:59:18+00:00   LupusWarrior69   \n",
              "2        2022-01-31 23:58:12+00:00       ElsaOrgana   \n",
              "3        2022-01-31 23:57:59+00:00   WilliamAHirsch   \n",
              "4        2022-01-31 23:57:58+00:00  persistingvirus   \n",
              "...                            ...              ...   \n",
              "1465845  2022-09-01 00:00:53+00:00       Suemonti57   \n",
              "1465846  2022-09-01 00:00:38+00:00          KariDru   \n",
              "1465847  2022-09-01 00:00:18+00:00         twogukuk   \n",
              "1465848  2022-09-01 00:00:00+00:00  getvaxxedpeople   \n",
              "1465849                          \u001a              NaN   \n",
              "\n",
              "                                                    Tweets  \n",
              "0        @kathymi71147962 @RiaRex2 My s-in-law had Covi...  \n",
              "1        @MarinaSilver6 Long COVID sucks. But you make ...  \n",
              "2        @PortiaMcGonagal It’s been one for about a mon...  \n",
              "3        Living with covid also means lifelong health p...  \n",
              "4        Long Covid. Scientists agreed leading theory i...  \n",
              "...                                                    ...  \n",
              "1465845  @SteveBigpond @mjrowland68 How many times are ...  \n",
              "1465846  Longcovid life: my kettle beeped and Fenris se...  \n",
              "1465847  @kksheld Have you seen the symptoms of long co...  \n",
              "1465848  Millions can't work because of long Covid.\\n\\n...  \n",
              "1465849                                                NaN  \n",
              "\n",
              "[1465850 rows x 3 columns]"
            ],
            "text/html": [
              "\n",
              "  <div id=\"df-10c1cf03-57e2-4737-a599-e3903e4632c2\" class=\"colab-df-container\">\n",
              "    <div>\n",
              "<style scoped>\n",
              "    .dataframe tbody tr th:only-of-type {\n",
              "        vertical-align: middle;\n",
              "    }\n",
              "\n",
              "    .dataframe tbody tr th {\n",
              "        vertical-align: top;\n",
              "    }\n",
              "\n",
              "    .dataframe thead th {\n",
              "        text-align: right;\n",
              "    }\n",
              "</style>\n",
              "<table border=\"1\" class=\"dataframe\">\n",
              "  <thead>\n",
              "    <tr style=\"text-align: right;\">\n",
              "      <th></th>\n",
              "      <th>Date</th>\n",
              "      <th>User</th>\n",
              "      <th>Tweets</th>\n",
              "    </tr>\n",
              "  </thead>\n",
              "  <tbody>\n",
              "    <tr>\n",
              "      <th>0</th>\n",
              "      <td>2022-01-31 23:59:18+00:00</td>\n",
              "      <td>RobocapFriend</td>\n",
              "      <td>@kathymi71147962 @RiaRex2 My s-in-law had Covi...</td>\n",
              "    </tr>\n",
              "    <tr>\n",
              "      <th>1</th>\n",
              "      <td>2022-01-31 23:59:18+00:00</td>\n",
              "      <td>LupusWarrior69</td>\n",
              "      <td>@MarinaSilver6 Long COVID sucks. But you make ...</td>\n",
              "    </tr>\n",
              "    <tr>\n",
              "      <th>2</th>\n",
              "      <td>2022-01-31 23:58:12+00:00</td>\n",
              "      <td>ElsaOrgana</td>\n",
              "      <td>@PortiaMcGonagal It’s been one for about a mon...</td>\n",
              "    </tr>\n",
              "    <tr>\n",
              "      <th>3</th>\n",
              "      <td>2022-01-31 23:57:59+00:00</td>\n",
              "      <td>WilliamAHirsch</td>\n",
              "      <td>Living with covid also means lifelong health p...</td>\n",
              "    </tr>\n",
              "    <tr>\n",
              "      <th>4</th>\n",
              "      <td>2022-01-31 23:57:58+00:00</td>\n",
              "      <td>persistingvirus</td>\n",
              "      <td>Long Covid. Scientists agreed leading theory i...</td>\n",
              "    </tr>\n",
              "    <tr>\n",
              "      <th>...</th>\n",
              "      <td>...</td>\n",
              "      <td>...</td>\n",
              "      <td>...</td>\n",
              "    </tr>\n",
              "    <tr>\n",
              "      <th>1465845</th>\n",
              "      <td>2022-09-01 00:00:53+00:00</td>\n",
              "      <td>Suemonti57</td>\n",
              "      <td>@SteveBigpond @mjrowland68 How many times are ...</td>\n",
              "    </tr>\n",
              "    <tr>\n",
              "      <th>1465846</th>\n",
              "      <td>2022-09-01 00:00:38+00:00</td>\n",
              "      <td>KariDru</td>\n",
              "      <td>Longcovid life: my kettle beeped and Fenris se...</td>\n",
              "    </tr>\n",
              "    <tr>\n",
              "      <th>1465847</th>\n",
              "      <td>2022-09-01 00:00:18+00:00</td>\n",
              "      <td>twogukuk</td>\n",
              "      <td>@kksheld Have you seen the symptoms of long co...</td>\n",
              "    </tr>\n",
              "    <tr>\n",
              "      <th>1465848</th>\n",
              "      <td>2022-09-01 00:00:00+00:00</td>\n",
              "      <td>getvaxxedpeople</td>\n",
              "      <td>Millions can't work because of long Covid.\\n\\n...</td>\n",
              "    </tr>\n",
              "    <tr>\n",
              "      <th>1465849</th>\n",
              "      <td>\u001a</td>\n",
              "      <td>NaN</td>\n",
              "      <td>NaN</td>\n",
              "    </tr>\n",
              "  </tbody>\n",
              "</table>\n",
              "<p>1465850 rows × 3 columns</p>\n",
              "</div>\n",
              "    <div class=\"colab-df-buttons\">\n",
              "\n",
              "  <div class=\"colab-df-container\">\n",
              "    <button class=\"colab-df-convert\" onclick=\"convertToInteractive('df-10c1cf03-57e2-4737-a599-e3903e4632c2')\"\n",
              "            title=\"Convert this dataframe to an interactive table.\"\n",
              "            style=\"display:none;\">\n",
              "\n",
              "  <svg xmlns=\"http://www.w3.org/2000/svg\" height=\"24px\" viewBox=\"0 -960 960 960\">\n",
              "    <path d=\"M120-120v-720h720v720H120Zm60-500h600v-160H180v160Zm220 220h160v-160H400v160Zm0 220h160v-160H400v160ZM180-400h160v-160H180v160Zm440 0h160v-160H620v160ZM180-180h160v-160H180v160Zm440 0h160v-160H620v160Z\"/>\n",
              "  </svg>\n",
              "    </button>\n",
              "\n",
              "  <style>\n",
              "    .colab-df-container {\n",
              "      display:flex;\n",
              "      gap: 12px;\n",
              "    }\n",
              "\n",
              "    .colab-df-convert {\n",
              "      background-color: #E8F0FE;\n",
              "      border: none;\n",
              "      border-radius: 50%;\n",
              "      cursor: pointer;\n",
              "      display: none;\n",
              "      fill: #1967D2;\n",
              "      height: 32px;\n",
              "      padding: 0 0 0 0;\n",
              "      width: 32px;\n",
              "    }\n",
              "\n",
              "    .colab-df-convert:hover {\n",
              "      background-color: #E2EBFA;\n",
              "      box-shadow: 0px 1px 2px rgba(60, 64, 67, 0.3), 0px 1px 3px 1px rgba(60, 64, 67, 0.15);\n",
              "      fill: #174EA6;\n",
              "    }\n",
              "\n",
              "    .colab-df-buttons div {\n",
              "      margin-bottom: 4px;\n",
              "    }\n",
              "\n",
              "    [theme=dark] .colab-df-convert {\n",
              "      background-color: #3B4455;\n",
              "      fill: #D2E3FC;\n",
              "    }\n",
              "\n",
              "    [theme=dark] .colab-df-convert:hover {\n",
              "      background-color: #434B5C;\n",
              "      box-shadow: 0px 1px 3px 1px rgba(0, 0, 0, 0.15);\n",
              "      filter: drop-shadow(0px 1px 2px rgba(0, 0, 0, 0.3));\n",
              "      fill: #FFFFFF;\n",
              "    }\n",
              "  </style>\n",
              "\n",
              "    <script>\n",
              "      const buttonEl =\n",
              "        document.querySelector('#df-10c1cf03-57e2-4737-a599-e3903e4632c2 button.colab-df-convert');\n",
              "      buttonEl.style.display =\n",
              "        google.colab.kernel.accessAllowed ? 'block' : 'none';\n",
              "\n",
              "      async function convertToInteractive(key) {\n",
              "        const element = document.querySelector('#df-10c1cf03-57e2-4737-a599-e3903e4632c2');\n",
              "        const dataTable =\n",
              "          await google.colab.kernel.invokeFunction('convertToInteractive',\n",
              "                                                    [key], {});\n",
              "        if (!dataTable) return;\n",
              "\n",
              "        const docLinkHtml = 'Like what you see? Visit the ' +\n",
              "          '<a target=\"_blank\" href=https://colab.research.google.com/notebooks/data_table.ipynb>data table notebook</a>'\n",
              "          + ' to learn more about interactive tables.';\n",
              "        element.innerHTML = '';\n",
              "        dataTable['output_type'] = 'display_data';\n",
              "        await google.colab.output.renderOutput(dataTable, element);\n",
              "        const docLink = document.createElement('div');\n",
              "        docLink.innerHTML = docLinkHtml;\n",
              "        element.appendChild(docLink);\n",
              "      }\n",
              "    </script>\n",
              "  </div>\n",
              "\n",
              "\n",
              "<div id=\"df-78be6e31-8186-4f70-b45c-4c1126170480\">\n",
              "  <button class=\"colab-df-quickchart\" onclick=\"quickchart('df-78be6e31-8186-4f70-b45c-4c1126170480')\"\n",
              "            title=\"Suggest charts.\"\n",
              "            style=\"display:none;\">\n",
              "\n",
              "<svg xmlns=\"http://www.w3.org/2000/svg\" height=\"24px\"viewBox=\"0 0 24 24\"\n",
              "     width=\"24px\">\n",
              "    <g>\n",
              "        <path d=\"M19 3H5c-1.1 0-2 .9-2 2v14c0 1.1.9 2 2 2h14c1.1 0 2-.9 2-2V5c0-1.1-.9-2-2-2zM9 17H7v-7h2v7zm4 0h-2V7h2v10zm4 0h-2v-4h2v4z\"/>\n",
              "    </g>\n",
              "</svg>\n",
              "  </button>\n",
              "\n",
              "<style>\n",
              "  .colab-df-quickchart {\n",
              "    background-color: #E8F0FE;\n",
              "    border: none;\n",
              "    border-radius: 50%;\n",
              "    cursor: pointer;\n",
              "    display: none;\n",
              "    fill: #1967D2;\n",
              "    height: 32px;\n",
              "    padding: 0 0 0 0;\n",
              "    width: 32px;\n",
              "  }\n",
              "\n",
              "  .colab-df-quickchart:hover {\n",
              "    background-color: #E2EBFA;\n",
              "    box-shadow: 0px 1px 2px rgba(60, 64, 67, 0.3), 0px 1px 3px 1px rgba(60, 64, 67, 0.15);\n",
              "    fill: #174EA6;\n",
              "  }\n",
              "\n",
              "  [theme=dark] .colab-df-quickchart {\n",
              "    background-color: #3B4455;\n",
              "    fill: #D2E3FC;\n",
              "  }\n",
              "\n",
              "  [theme=dark] .colab-df-quickchart:hover {\n",
              "    background-color: #434B5C;\n",
              "    box-shadow: 0px 1px 3px 1px rgba(0, 0, 0, 0.15);\n",
              "    filter: drop-shadow(0px 1px 2px rgba(0, 0, 0, 0.3));\n",
              "    fill: #FFFFFF;\n",
              "  }\n",
              "</style>\n",
              "\n",
              "  <script>\n",
              "    async function quickchart(key) {\n",
              "      const charts = await google.colab.kernel.invokeFunction(\n",
              "          'suggestCharts', [key], {});\n",
              "    }\n",
              "    (() => {\n",
              "      let quickchartButtonEl =\n",
              "        document.querySelector('#df-78be6e31-8186-4f70-b45c-4c1126170480 button');\n",
              "      quickchartButtonEl.style.display =\n",
              "        google.colab.kernel.accessAllowed ? 'block' : 'none';\n",
              "    })();\n",
              "  </script>\n",
              "</div>\n",
              "    </div>\n",
              "  </div>\n"
            ]
          },
          "metadata": {},
          "execution_count": 4
        }
      ],
      "source": [
        "data"
      ]
    },
    {
      "cell_type": "markdown",
      "metadata": {
        "id": "CHjF5gQKMyxj"
      },
      "source": [
        "## Data preparation"
      ]
    },
    {
      "cell_type": "markdown",
      "metadata": {
        "id": "DBsJe9qTN5fB"
      },
      "source": [
        "### Removing NAN values"
      ]
    },
    {
      "cell_type": "code",
      "execution_count": 5,
      "metadata": {
        "colab": {
          "base_uri": "https://localhost:8080/"
        },
        "id": "iAxkmqjZORks",
        "outputId": "fc0172a0-5ff0-4905-a59a-fd0084a7ba91"
      },
      "outputs": [
        {
          "output_type": "execute_result",
          "data": {
            "text/plain": [
              "Date      0\n",
              "User      4\n",
              "Tweets    4\n",
              "dtype: int64"
            ]
          },
          "metadata": {},
          "execution_count": 5
        }
      ],
      "source": [
        "data.isna().sum()"
      ]
    },
    {
      "cell_type": "code",
      "execution_count": 6,
      "metadata": {
        "id": "ZxPESL6OOCi-"
      },
      "outputs": [],
      "source": [
        "data = data.dropna()"
      ]
    },
    {
      "cell_type": "code",
      "execution_count": 7,
      "metadata": {
        "colab": {
          "base_uri": "https://localhost:8080/"
        },
        "id": "Dqpv69_3OKCM",
        "outputId": "88ffd7af-8be3-48e4-e96f-bf53d86895bb"
      },
      "outputs": [
        {
          "output_type": "execute_result",
          "data": {
            "text/plain": [
              "Date      0\n",
              "User      0\n",
              "Tweets    0\n",
              "dtype: int64"
            ]
          },
          "metadata": {},
          "execution_count": 7
        }
      ],
      "source": [
        "data.isna().sum()"
      ]
    },
    {
      "cell_type": "markdown",
      "metadata": {
        "id": "pkz1myS4M1ez"
      },
      "source": [
        "### Data cleaning"
      ]
    },
    {
      "cell_type": "code",
      "execution_count": 8,
      "metadata": {
        "colab": {
          "base_uri": "https://localhost:8080/"
        },
        "id": "wQC7Io4lsAJA",
        "outputId": "90c2c610-5e75-45b1-cd22-0eaf763e35c9"
      },
      "outputs": [
        {
          "output_type": "stream",
          "name": "stderr",
          "text": [
            "[nltk_data] Downloading collection 'popular'\n",
            "[nltk_data]    | \n",
            "[nltk_data]    | Downloading package cmudict to /root/nltk_data...\n",
            "[nltk_data]    |   Package cmudict is already up-to-date!\n",
            "[nltk_data]    | Downloading package gazetteers to /root/nltk_data...\n",
            "[nltk_data]    |   Package gazetteers is already up-to-date!\n",
            "[nltk_data]    | Downloading package genesis to /root/nltk_data...\n",
            "[nltk_data]    |   Package genesis is already up-to-date!\n",
            "[nltk_data]    | Downloading package gutenberg to /root/nltk_data...\n",
            "[nltk_data]    |   Package gutenberg is already up-to-date!\n",
            "[nltk_data]    | Downloading package inaugural to /root/nltk_data...\n",
            "[nltk_data]    |   Package inaugural is already up-to-date!\n",
            "[nltk_data]    | Downloading package movie_reviews to\n",
            "[nltk_data]    |     /root/nltk_data...\n",
            "[nltk_data]    |   Package movie_reviews is already up-to-date!\n",
            "[nltk_data]    | Downloading package names to /root/nltk_data...\n",
            "[nltk_data]    |   Package names is already up-to-date!\n",
            "[nltk_data]    | Downloading package shakespeare to /root/nltk_data...\n",
            "[nltk_data]    |   Package shakespeare is already up-to-date!\n",
            "[nltk_data]    | Downloading package stopwords to /root/nltk_data...\n",
            "[nltk_data]    |   Package stopwords is already up-to-date!\n",
            "[nltk_data]    | Downloading package treebank to /root/nltk_data...\n",
            "[nltk_data]    |   Package treebank is already up-to-date!\n",
            "[nltk_data]    | Downloading package twitter_samples to\n",
            "[nltk_data]    |     /root/nltk_data...\n",
            "[nltk_data]    |   Package twitter_samples is already up-to-date!\n",
            "[nltk_data]    | Downloading package omw to /root/nltk_data...\n",
            "[nltk_data]    |   Package omw is already up-to-date!\n",
            "[nltk_data]    | Downloading package omw-1.4 to /root/nltk_data...\n",
            "[nltk_data]    |   Package omw-1.4 is already up-to-date!\n",
            "[nltk_data]    | Downloading package wordnet to /root/nltk_data...\n",
            "[nltk_data]    |   Package wordnet is already up-to-date!\n",
            "[nltk_data]    | Downloading package wordnet2021 to /root/nltk_data...\n",
            "[nltk_data]    |   Package wordnet2021 is already up-to-date!\n",
            "[nltk_data]    | Downloading package wordnet31 to /root/nltk_data...\n",
            "[nltk_data]    |   Package wordnet31 is already up-to-date!\n",
            "[nltk_data]    | Downloading package wordnet_ic to /root/nltk_data...\n",
            "[nltk_data]    |   Package wordnet_ic is already up-to-date!\n",
            "[nltk_data]    | Downloading package words to /root/nltk_data...\n",
            "[nltk_data]    |   Package words is already up-to-date!\n",
            "[nltk_data]    | Downloading package maxent_ne_chunker to\n",
            "[nltk_data]    |     /root/nltk_data...\n",
            "[nltk_data]    |   Package maxent_ne_chunker is already up-to-date!\n",
            "[nltk_data]    | Downloading package punkt to /root/nltk_data...\n",
            "[nltk_data]    |   Package punkt is already up-to-date!\n",
            "[nltk_data]    | Downloading package snowball_data to\n",
            "[nltk_data]    |     /root/nltk_data...\n",
            "[nltk_data]    |   Package snowball_data is already up-to-date!\n",
            "[nltk_data]    | Downloading package averaged_perceptron_tagger to\n",
            "[nltk_data]    |     /root/nltk_data...\n",
            "[nltk_data]    |   Package averaged_perceptron_tagger is already up-\n",
            "[nltk_data]    |       to-date!\n",
            "[nltk_data]    | \n",
            "[nltk_data]  Done downloading collection popular\n"
          ]
        },
        {
          "output_type": "execute_result",
          "data": {
            "text/plain": [
              "True"
            ]
          },
          "metadata": {},
          "execution_count": 8
        }
      ],
      "source": [
        "# Calculate the sum of each words in tweets\n",
        "from collections import Counter\n",
        "from nltk.corpus import stopwords\n",
        "\n",
        "nltk.download('popular')"
      ]
    },
    {
      "cell_type": "code",
      "execution_count": 9,
      "metadata": {
        "id": "k48aPmfi-kEF"
      },
      "outputs": [],
      "source": [
        "df = data.copy()"
      ]
    },
    {
      "cell_type": "code",
      "execution_count": 10,
      "metadata": {
        "id": "q687qF0BNDq2"
      },
      "outputs": [],
      "source": [
        "all_words=[word for tweet in df['Tweets'] for word in tweet.split(\" \") ]"
      ]
    },
    {
      "cell_type": "code",
      "execution_count": 11,
      "metadata": {
        "id": "T_iXEONRsgJa"
      },
      "outputs": [],
      "source": [
        "vocab = Counter(all_words)"
      ]
    },
    {
      "cell_type": "code",
      "execution_count": 12,
      "metadata": {
        "colab": {
          "base_uri": "https://localhost:8080/"
        },
        "id": "KSdRc6qxxSzy",
        "outputId": "7b8dfe81-c1b0-4b67-bca5-90bad06cccae"
      },
      "outputs": [
        {
          "output_type": "stream",
          "name": "stdout",
          "text": [
            "Least Common\n"
          ]
        },
        {
          "output_type": "execute_result",
          "data": {
            "text/plain": [
              "[('.\\n\\nLike', 1),\n",
              " ('anyway?\\nScam.', 1),\n",
              " ('\\n\\n\"Compared', 1),\n",
              " ('(n\\u2009=\\u2009113,474)', 1),\n",
              " ('risks...incident', 1),\n",
              " ('0.89)\"\\n\\nhttps://t.co/jyMoUy5PZP', 1),\n",
              " ('https://t.co/NHiy9N1FJS', 1),\n",
              " ('beeped', 1),\n",
              " ('Fenris', 1),\n",
              " ('Covid.\\n\\nhttps://t.co/A7zi0s0rcW\\n#covid', 1)]"
            ]
          },
          "metadata": {},
          "execution_count": 12
        }
      ],
      "source": [
        "print('Least Common')\n",
        "vocab.most_common()[-10:]"
      ]
    },
    {
      "cell_type": "markdown",
      "metadata": {
        "id": "AyDKRu2EszNF"
      },
      "source": [
        "#### Stop words"
      ]
    },
    {
      "cell_type": "code",
      "execution_count": 13,
      "metadata": {
        "colab": {
          "base_uri": "https://localhost:8080/"
        },
        "id": "xjS7Q2Gqsge5",
        "outputId": "a54ee09b-fc4b-40a7-b2fa-6d1232f4f2da"
      },
      "outputs": [
        {
          "output_type": "execute_result",
          "data": {
            "text/plain": [
              "['himself',\n",
              " 'she',\n",
              " \"she's\",\n",
              " 'her',\n",
              " 'hers',\n",
              " 'herself',\n",
              " 'it',\n",
              " \"it's\",\n",
              " 'its',\n",
              " 'itself']"
            ]
          },
          "metadata": {},
          "execution_count": 13
        }
      ],
      "source": [
        "from nltk.corpus import stopwords\n",
        "from collections import Counter\n",
        "stop_words= stopwords.words(\"english\")\n",
        "stop_words[20:30]"
      ]
    },
    {
      "cell_type": "code",
      "execution_count": 14,
      "metadata": {
        "id": "kRplCKw7siDK"
      },
      "outputs": [],
      "source": [
        "stop_words=stopwords.words(\"english\")\n",
        "def remove_stop_words(text):\n",
        "    return \" \".join([word for word in text.split(\" \") if word not in stop_words])"
      ]
    },
    {
      "cell_type": "markdown",
      "metadata": {
        "id": "bEPT-p9XvQ0x"
      },
      "source": [
        "#### Hashtags"
      ]
    },
    {
      "cell_type": "code",
      "execution_count": 15,
      "metadata": {
        "id": "wSQsUhVSshwS"
      },
      "outputs": [],
      "source": [
        "hashtag_re=re.compile(pattern='#[\\w\\d]+')\n",
        "def remove_hashtag(text:str)->str:\n",
        "    return hashtag_re.sub(repl=\"\",string=text)"
      ]
    },
    {
      "cell_type": "markdown",
      "metadata": {
        "id": "r62KvV0-vTmI"
      },
      "source": [
        "#### Mentions\n"
      ]
    },
    {
      "cell_type": "code",
      "execution_count": 16,
      "metadata": {
        "id": "AfbPnYTTx_pI"
      },
      "outputs": [],
      "source": [
        "mention_re =re.compile('@\\w+')\n",
        "def remove_mention(text):\n",
        "    return mention_re.sub(repl=\"\",string=text)"
      ]
    },
    {
      "cell_type": "markdown",
      "metadata": {
        "id": "zjzhuEKRyDxg"
      },
      "source": [
        "#### Punctuation Marks"
      ]
    },
    {
      "cell_type": "code",
      "execution_count": 17,
      "metadata": {
        "id": "ywQUlKzyx_Jh"
      },
      "outputs": [],
      "source": [
        "punc_re = re.compile(r\"\"\"[!\"#$%&\\'()*+,-./:;<=>?@[\\\\\\]^_`{|}~،؟…«“\\\":\\\"…”]\"\"\")\n",
        "\n",
        "def remove_punctation(text:str)->str:\n",
        "    return punc_re.sub(repl=\"\",string=text)"
      ]
    },
    {
      "cell_type": "markdown",
      "metadata": {
        "id": "K5WdaTs3yWex"
      },
      "source": [
        "#### Numbers"
      ]
    },
    {
      "cell_type": "code",
      "execution_count": 18,
      "metadata": {
        "id": "SOoFr-e6yZcg"
      },
      "outputs": [],
      "source": [
        "number_re=re.compile('\\d+')\n",
        "def remove_numbers(text):\n",
        "    return number_re.sub(repl='',string=text)"
      ]
    },
    {
      "cell_type": "markdown",
      "metadata": {
        "id": "Qm2Q7cy0ydN_"
      },
      "source": [
        "#### White Sapces"
      ]
    },
    {
      "cell_type": "code",
      "execution_count": 19,
      "metadata": {
        "id": "vyjkdAUPyeqI"
      },
      "outputs": [],
      "source": [
        "multiple_space_re =re.compile('\\s{2,}')\n",
        "def remove_multiple_whitespace(text):\n",
        "    return multiple_space_re.sub(repl=' ',string=text)"
      ]
    },
    {
      "cell_type": "markdown",
      "metadata": {
        "id": "dU56MOXIyNa4"
      },
      "source": [
        "#### HTTP URLs"
      ]
    },
    {
      "cell_type": "code",
      "execution_count": 20,
      "metadata": {
        "id": "KD9xdwI8yPso"
      },
      "outputs": [],
      "source": [
        "def remove_urls(text):\n",
        "    return re.sub('((www\\.[^\\s]+)|(https?://[^\\s]+))',\" \",text)"
      ]
    },
    {
      "cell_type": "markdown",
      "metadata": {
        "id": "lj2-6Rmiz0-O"
      },
      "source": [
        "#### Emojis"
      ]
    },
    {
      "cell_type": "code",
      "execution_count": 21,
      "metadata": {
        "id": "D9H7LYB2z3aR"
      },
      "outputs": [],
      "source": [
        "def remove_emojis(text):\n",
        "    emoji_pattern = re.compile(\"[\"\n",
        "                           u\"\\U0001F600-\\U0001F64F\"  # emoticons\n",
        "                           u\"\\U0001F300-\\U0001F5FF\"  # symbols & pictographs\n",
        "                           u\"\\U0001F680-\\U0001F6FF\"  # transport & map symbols\n",
        "                           u\"\\U0001F700-\\U0001F77F\"  # alchemical symbols\n",
        "                           u\"\\U0001F780-\\U0001F7FF\"  # Geometric Shapes Extended\n",
        "                           u\"\\U0001F800-\\U0001F8FF\"  # Supplemental Arrows-C\n",
        "                           u\"\\U0001F900-\\U0001F9FF\"  # Supplemental Symbols and Pictographs\n",
        "                           u\"\\U0001FA00-\\U0001FA6F\"  # Chess Symbols\n",
        "                           u\"\\U0001FA70-\\U0001FAFF\"  # Symbols and Pictographs Extended-A\n",
        "                           u\"\\U00002702-\\U000027B0\"  # Dingbats\n",
        "                           u\"\\U000024C2-\\U0001F251\"\n",
        "                           \"]+\", flags=re.UNICODE)\n",
        "    return emoji_pattern.sub(r'', text)"
      ]
    },
    {
      "cell_type": "markdown",
      "metadata": {
        "id": "x4H5u7qxyqIn"
      },
      "source": [
        "#### Clean ALL"
      ]
    },
    {
      "cell_type": "code",
      "execution_count": 22,
      "metadata": {
        "id": "lQPgtBR7ysxH"
      },
      "outputs": [],
      "source": [
        "def clean_all(text):\n",
        "    text = remove_urls(text)\n",
        "    text = remove_hashtag(text)\n",
        "    text = remove_mention(text)\n",
        "    text = remove_punctation(text)\n",
        "    text = remove_numbers(text)\n",
        "    text = remove_stop_words(text)\n",
        "    text = remove_multiple_whitespace(text)\n",
        "    text = remove_emojis(text)\n",
        "    # remove space in beginning of text\n",
        "    text = text.lower().strip()\n",
        "\n",
        "    return text"
      ]
    },
    {
      "cell_type": "code",
      "execution_count": 23,
      "metadata": {
        "id": "TVqU8qOuyxcf"
      },
      "outputs": [],
      "source": [
        "df[\"Tweets\"] = df[\"Tweets\"].apply(clean_all)"
      ]
    },
    {
      "cell_type": "code",
      "execution_count": 24,
      "metadata": {
        "colab": {
          "base_uri": "https://localhost:8080/",
          "height": 206
        },
        "id": "2YPnnH3uy9eo",
        "outputId": "eab89dc7-65c2-4c9a-f3d0-c81f5acdff22"
      },
      "outputs": [
        {
          "output_type": "execute_result",
          "data": {
            "text/plain": [
              "                        Date             User  \\\n",
              "0  2022-01-31 23:59:18+00:00    RobocapFriend   \n",
              "1  2022-01-31 23:59:18+00:00   LupusWarrior69   \n",
              "2  2022-01-31 23:58:12+00:00       ElsaOrgana   \n",
              "3  2022-01-31 23:57:59+00:00   WilliamAHirsch   \n",
              "4  2022-01-31 23:57:58+00:00  persistingvirus   \n",
              "\n",
              "                                              Tweets  \n",
              "0  my sinlaw covid months ago she still long covi...  \n",
              "1                long covid sucks but make look sexy  \n",
              "2  it’s one month long covid solidarity one fed l...  \n",
              "3  living covid also means lifelong health proble...  \n",
              "4  long covid scientists agreed leading theory sy...  "
            ],
            "text/html": [
              "\n",
              "  <div id=\"df-eeeb3212-4512-4321-8715-70fcc3fecbe0\" class=\"colab-df-container\">\n",
              "    <div>\n",
              "<style scoped>\n",
              "    .dataframe tbody tr th:only-of-type {\n",
              "        vertical-align: middle;\n",
              "    }\n",
              "\n",
              "    .dataframe tbody tr th {\n",
              "        vertical-align: top;\n",
              "    }\n",
              "\n",
              "    .dataframe thead th {\n",
              "        text-align: right;\n",
              "    }\n",
              "</style>\n",
              "<table border=\"1\" class=\"dataframe\">\n",
              "  <thead>\n",
              "    <tr style=\"text-align: right;\">\n",
              "      <th></th>\n",
              "      <th>Date</th>\n",
              "      <th>User</th>\n",
              "      <th>Tweets</th>\n",
              "    </tr>\n",
              "  </thead>\n",
              "  <tbody>\n",
              "    <tr>\n",
              "      <th>0</th>\n",
              "      <td>2022-01-31 23:59:18+00:00</td>\n",
              "      <td>RobocapFriend</td>\n",
              "      <td>my sinlaw covid months ago she still long covi...</td>\n",
              "    </tr>\n",
              "    <tr>\n",
              "      <th>1</th>\n",
              "      <td>2022-01-31 23:59:18+00:00</td>\n",
              "      <td>LupusWarrior69</td>\n",
              "      <td>long covid sucks but make look sexy</td>\n",
              "    </tr>\n",
              "    <tr>\n",
              "      <th>2</th>\n",
              "      <td>2022-01-31 23:58:12+00:00</td>\n",
              "      <td>ElsaOrgana</td>\n",
              "      <td>it’s one month long covid solidarity one fed l...</td>\n",
              "    </tr>\n",
              "    <tr>\n",
              "      <th>3</th>\n",
              "      <td>2022-01-31 23:57:59+00:00</td>\n",
              "      <td>WilliamAHirsch</td>\n",
              "      <td>living covid also means lifelong health proble...</td>\n",
              "    </tr>\n",
              "    <tr>\n",
              "      <th>4</th>\n",
              "      <td>2022-01-31 23:57:58+00:00</td>\n",
              "      <td>persistingvirus</td>\n",
              "      <td>long covid scientists agreed leading theory sy...</td>\n",
              "    </tr>\n",
              "  </tbody>\n",
              "</table>\n",
              "</div>\n",
              "    <div class=\"colab-df-buttons\">\n",
              "\n",
              "  <div class=\"colab-df-container\">\n",
              "    <button class=\"colab-df-convert\" onclick=\"convertToInteractive('df-eeeb3212-4512-4321-8715-70fcc3fecbe0')\"\n",
              "            title=\"Convert this dataframe to an interactive table.\"\n",
              "            style=\"display:none;\">\n",
              "\n",
              "  <svg xmlns=\"http://www.w3.org/2000/svg\" height=\"24px\" viewBox=\"0 -960 960 960\">\n",
              "    <path d=\"M120-120v-720h720v720H120Zm60-500h600v-160H180v160Zm220 220h160v-160H400v160Zm0 220h160v-160H400v160ZM180-400h160v-160H180v160Zm440 0h160v-160H620v160ZM180-180h160v-160H180v160Zm440 0h160v-160H620v160Z\"/>\n",
              "  </svg>\n",
              "    </button>\n",
              "\n",
              "  <style>\n",
              "    .colab-df-container {\n",
              "      display:flex;\n",
              "      gap: 12px;\n",
              "    }\n",
              "\n",
              "    .colab-df-convert {\n",
              "      background-color: #E8F0FE;\n",
              "      border: none;\n",
              "      border-radius: 50%;\n",
              "      cursor: pointer;\n",
              "      display: none;\n",
              "      fill: #1967D2;\n",
              "      height: 32px;\n",
              "      padding: 0 0 0 0;\n",
              "      width: 32px;\n",
              "    }\n",
              "\n",
              "    .colab-df-convert:hover {\n",
              "      background-color: #E2EBFA;\n",
              "      box-shadow: 0px 1px 2px rgba(60, 64, 67, 0.3), 0px 1px 3px 1px rgba(60, 64, 67, 0.15);\n",
              "      fill: #174EA6;\n",
              "    }\n",
              "\n",
              "    .colab-df-buttons div {\n",
              "      margin-bottom: 4px;\n",
              "    }\n",
              "\n",
              "    [theme=dark] .colab-df-convert {\n",
              "      background-color: #3B4455;\n",
              "      fill: #D2E3FC;\n",
              "    }\n",
              "\n",
              "    [theme=dark] .colab-df-convert:hover {\n",
              "      background-color: #434B5C;\n",
              "      box-shadow: 0px 1px 3px 1px rgba(0, 0, 0, 0.15);\n",
              "      filter: drop-shadow(0px 1px 2px rgba(0, 0, 0, 0.3));\n",
              "      fill: #FFFFFF;\n",
              "    }\n",
              "  </style>\n",
              "\n",
              "    <script>\n",
              "      const buttonEl =\n",
              "        document.querySelector('#df-eeeb3212-4512-4321-8715-70fcc3fecbe0 button.colab-df-convert');\n",
              "      buttonEl.style.display =\n",
              "        google.colab.kernel.accessAllowed ? 'block' : 'none';\n",
              "\n",
              "      async function convertToInteractive(key) {\n",
              "        const element = document.querySelector('#df-eeeb3212-4512-4321-8715-70fcc3fecbe0');\n",
              "        const dataTable =\n",
              "          await google.colab.kernel.invokeFunction('convertToInteractive',\n",
              "                                                    [key], {});\n",
              "        if (!dataTable) return;\n",
              "\n",
              "        const docLinkHtml = 'Like what you see? Visit the ' +\n",
              "          '<a target=\"_blank\" href=https://colab.research.google.com/notebooks/data_table.ipynb>data table notebook</a>'\n",
              "          + ' to learn more about interactive tables.';\n",
              "        element.innerHTML = '';\n",
              "        dataTable['output_type'] = 'display_data';\n",
              "        await google.colab.output.renderOutput(dataTable, element);\n",
              "        const docLink = document.createElement('div');\n",
              "        docLink.innerHTML = docLinkHtml;\n",
              "        element.appendChild(docLink);\n",
              "      }\n",
              "    </script>\n",
              "  </div>\n",
              "\n",
              "\n",
              "<div id=\"df-3af92092-ba50-4fde-bed7-bba3ddd9f751\">\n",
              "  <button class=\"colab-df-quickchart\" onclick=\"quickchart('df-3af92092-ba50-4fde-bed7-bba3ddd9f751')\"\n",
              "            title=\"Suggest charts.\"\n",
              "            style=\"display:none;\">\n",
              "\n",
              "<svg xmlns=\"http://www.w3.org/2000/svg\" height=\"24px\"viewBox=\"0 0 24 24\"\n",
              "     width=\"24px\">\n",
              "    <g>\n",
              "        <path d=\"M19 3H5c-1.1 0-2 .9-2 2v14c0 1.1.9 2 2 2h14c1.1 0 2-.9 2-2V5c0-1.1-.9-2-2-2zM9 17H7v-7h2v7zm4 0h-2V7h2v10zm4 0h-2v-4h2v4z\"/>\n",
              "    </g>\n",
              "</svg>\n",
              "  </button>\n",
              "\n",
              "<style>\n",
              "  .colab-df-quickchart {\n",
              "    background-color: #E8F0FE;\n",
              "    border: none;\n",
              "    border-radius: 50%;\n",
              "    cursor: pointer;\n",
              "    display: none;\n",
              "    fill: #1967D2;\n",
              "    height: 32px;\n",
              "    padding: 0 0 0 0;\n",
              "    width: 32px;\n",
              "  }\n",
              "\n",
              "  .colab-df-quickchart:hover {\n",
              "    background-color: #E2EBFA;\n",
              "    box-shadow: 0px 1px 2px rgba(60, 64, 67, 0.3), 0px 1px 3px 1px rgba(60, 64, 67, 0.15);\n",
              "    fill: #174EA6;\n",
              "  }\n",
              "\n",
              "  [theme=dark] .colab-df-quickchart {\n",
              "    background-color: #3B4455;\n",
              "    fill: #D2E3FC;\n",
              "  }\n",
              "\n",
              "  [theme=dark] .colab-df-quickchart:hover {\n",
              "    background-color: #434B5C;\n",
              "    box-shadow: 0px 1px 3px 1px rgba(0, 0, 0, 0.15);\n",
              "    filter: drop-shadow(0px 1px 2px rgba(0, 0, 0, 0.3));\n",
              "    fill: #FFFFFF;\n",
              "  }\n",
              "</style>\n",
              "\n",
              "  <script>\n",
              "    async function quickchart(key) {\n",
              "      const charts = await google.colab.kernel.invokeFunction(\n",
              "          'suggestCharts', [key], {});\n",
              "    }\n",
              "    (() => {\n",
              "      let quickchartButtonEl =\n",
              "        document.querySelector('#df-3af92092-ba50-4fde-bed7-bba3ddd9f751 button');\n",
              "      quickchartButtonEl.style.display =\n",
              "        google.colab.kernel.accessAllowed ? 'block' : 'none';\n",
              "    })();\n",
              "  </script>\n",
              "</div>\n",
              "    </div>\n",
              "  </div>\n"
            ]
          },
          "metadata": {},
          "execution_count": 24
        }
      ],
      "source": [
        "df.head(5)"
      ]
    },
    {
      "cell_type": "markdown",
      "metadata": {
        "id": "f_EazDiLP5Zy"
      },
      "source": [
        "### Data processing"
      ]
    },
    {
      "cell_type": "markdown",
      "metadata": {
        "id": "fveeTgANZrLN"
      },
      "source": [
        "#### Determining category"
      ]
    },
    {
      "cell_type": "markdown",
      "metadata": {
        "id": "RCe1kUKlZtc1"
      },
      "source": [
        "To determine in which category a tweet belongs, I am using 'Keyword Matching'. I will create a list of relevant keywords or phrases for each category, then I will use these keywords to match against the text of the tweets. If a tweet contains keywords related to symptoms, treatments, personal experiences, or scientific research, it will be assigned to the corresponding category."
      ]
    },
    {
      "cell_type": "markdown",
      "metadata": {
        "id": "cpny1pDQaXZj"
      },
      "source": [
        "Categories are: symptoms, treatments, personal experiences and scientific research"
      ]
    },
    {
      "cell_type": "markdown",
      "metadata": {
        "id": "lq-3ZjoV0ZBJ"
      },
      "source": [
        "##### Tokenization and word frequency"
      ]
    },
    {
      "cell_type": "code",
      "execution_count": 25,
      "metadata": {
        "id": "ieBtkVRi0bwM"
      },
      "outputs": [],
      "source": [
        "# Tokenization and frequency analysis\n",
        "all_words = ' '.join(df['Tweets']).split()\n",
        "word_counts = Counter(all_words)"
      ]
    },
    {
      "cell_type": "code",
      "execution_count": 26,
      "metadata": {
        "id": "fm8sSpdP2VZE"
      },
      "outputs": [],
      "source": [
        "from nltk.probability import FreqDist\n",
        "\n",
        "# Calculate word frequencies\n",
        "word_freq = FreqDist(all_words)"
      ]
    },
    {
      "cell_type": "code",
      "execution_count": 27,
      "metadata": {
        "colab": {
          "base_uri": "https://localhost:8080/"
        },
        "id": "okT15U7L4xog",
        "outputId": "82b2fdc2-ad18-4a47-c99f-d1d5c1073b34"
      },
      "outputs": [
        {
          "output_type": "stream",
          "name": "stdout",
          "text": [
            "Most common words and their frequencies:\n",
            "covid: 1451100, long: 1244527, i: 494056, new: 295434, disease: 277446, preprint: 249111, coding: 248118, characterizing: 248115, people: 228020, amp: 161774, get: 140573, the: 116622, symptoms: 105692, know: 99227, like: 98600, many: 93972, still: 87033, one: 75487, even: 71351, risk: 70472, it’s: 68593, also: 68046, health: 66390, dont: 66067, and: 64063, this: 61762, infection: 59929, us: 59263, longcovid: 59255, it: 58823, we: 57720, would: 56332, im: 56298, think: 56120, need: 54676, time: 52212, getting: 51474, don’t: 51176, got: 50035, work: 49954, you: 48883, patients: 47337, much: 47208, i’m: 46263, years: 46086, could: 45200, may: 44398, but: 44054, months: 43969, going: 42640, kids: 42229, help: 42075, if: 41905, study: 41374, really: 41109, want: 40966, so: 40451, research: 40367, children: 40180, well: 40172, vaccine: 39760, cases: 38925, see: 38518, brain: 38054, my: 37963, good: 37920, care: 36589, its: 36575, not: 35906, virus: 35834, suffering: 35655, what: 34998, effects: 34955, vaccines: 34571, mild: 34564, life: 34221, a: 33615, better: 33608, damage: 33314, take: 32741, sick: 32436, hope: 31922, back: 31870, no: 31798, vaccinated: 31369, year: 31072, how: 30751, since: 30387, illness: 30105, say: 30024, day: 29915, go: 29885, issues: 29476, never: 29423, mask: 29228, way: 29148, death: 29123, real: 28855, they: 28827, thing: 28819, pandemic: 28374, please: 27675, deaths: 27532, data: 26660, there: 26371, million: 26148, every: 26005, omicron: 25856, feel: 25478, lot: 25472, right: 25327, first: 25232, term: 25027, yes: 25001, make: 24666, last: 24622, fatigue: 24452, infections: 24398, due: 24312, likely: 24263, anyone: 24172, everyone: 24162, public: 24092, treatment: 23919, yet: 23847, chronic: 23586, ive: 23437, post: 23306, masks: 22951, disability: 22844, infected: 22843, two: 22740, medical: 22488, support: 22213, thats: 22200, keep: 22140, read: 22117, bad: 21916, is: 21840, cant: 21833, sure: 21782, heart: 21769, already: 21767, might: 21749, cause: 21730, uk: 21706, said: 21457, disabled: 21386, millions: 21111, severe: 20982, in: 20927, days: 20927, less: 20806, weeks: 20784, etc: 20477, studies: 20204, system: 20051, worse: 19951, someone: 19862, things: 19826, case: 19700, enough: 19605, doesnt: 19443, i’ve: 19367, others: 19365, maybe: 19297, sorry: 18879, thank: 18832, high: 18796, something: 18793, today: 18764, seems: 18764, why: 18520, end: 18498, find: 18486, living: 18473, vax: 18247, understand: 18161, that: 18159, around: 18155, died: 18083, stop: 17969, prevent: 17798, die: 17771, immune: 17751, ill: 17661, far: 17465, great: 17449, another: 17405, without: 17298, me: 17231, can’t: 17187, actually: 17170, look: 17097, youre: 16974, just: 16948, lc: 16920, believe: 16897, nothing: 16784, do: 16699, w: 16626, as: 16620, impact: 16609, week: 16589, via: 16445, that’s: 16393, doctors: 16178, least: 16167, mecfs: 16109, serious: 16059, isnt: 15965, experience: 15964, point: 15930, lives: 15910, body: 15819, live: 15770, vaccination: 15719, tell: 15684, fog: 15638, viral: 15627, dr: 15618, trying: 15581, best: 15539, family: 15536, person: 15535, suffer: 15490, news: 15446, evidence: 15283, though: 15229, flu: 15102, thanks: 15084, hard: 15082, doesn’t: 15037, now: 14989, blood: 14955, rest: 14813, times: 14680, done: 14640, for: 14622, number: 14604, healthy: 14524, anything: 14500, all: 14424, part: 14368, protect: 14300, ppl: 14245, seen: 14219, dying: 14053, test: 13958, problems: 13914, come: 13850, develop: 13824, saying: 13810, mean: 13800, hear: 13787, early: 13759, says: 13678, give: 13668, important: 13661, numbers: 13654, avoid: 13620, problem: 13619, conditions: 13616, school: 13533, government: 13510, hospital: 13479, world: 13467, including: 13464, able: 13426, theres: 13422, working: 13419, made: 13401, let: 13381, common: 13334, next: 13288, found: 13274, home: 13261, ever: 13164, probably: 13110, syndrome: 13091, different: 12957, you’re: 12937, vaxxed: 12878, some: 12809, lost: 12771, little: 12752, are: 12728, condition: 12640, especially: 12632, thread: 12603, he: 12551, chance: 12499, must: 12490, wear: 12479, side: 12478, article: 12473, possible: 12430, soon: 12430, almost: 12366, pain: 12250, big: 12242, didnt: 12233, isn’t: 12204, more: 12144, to: 12100, friends: 12088, or: 12002, population: 11966, normal: 11963, start: 11892, needs: 11836, sufferers: 11711, recovery: 11662, longterm: 11655, try: 11653, means: 11650, either: 11648, oh: 11606, ago: 11605, immunity: 11579, always: 11574, young: 11556, treatments: 11516, positive: 11492, issue: 11487, dead: 11436, makes: 11435, taking: 11431, science: 11333, bc: 11283, risks: 11278, have: 11277, folks: 11230, told: 11223, healthcare: 11205, rate: 11177, reduce: 11170, left: 11149, away: 11092, later: 11063, seem: 11039, mental: 11036, community: 11031, talk: 11016, debilitating: 11013, doctor: 10997, vulnerable: 10977, spread: 10976, safe: 10953, thought: 10916, causes: 10896, everything: 10887, when: 10852, with: 10798, given: 10782, old: 10765, fully: 10763, longer: 10756, talking: 10753, acute: 10743, group: 10730, heard: 10729, show: 10693, similar: 10589, else: 10555, use: 10543, mention: 10540, fact: 10511, thousands: 10478, continue: 10438, seriously: 10405, variants: 10321, symptom: 10273, looking: 10265, wont: 10253, cold: 10230, full: 10202, low: 10189, put: 10135, pretty: 10119, testing: 10096, workers: 10089, caused: 10057, she: 10023, wearing: 9978, schools: 9918, there’s: 9862, higher: 9839, can: 9818, future: 9808, ones: 9805, loss: 9734, friend: 9728, americans: 9693, dealing: 9674, treat: 9665, month: 9590, wish: 9588, adults: 9580, true: 9577, used: 9567, feeling: 9562, huge: 9538, wrong: 9531, making: 9513, become: 9463, yeah: 9430, stay: 9406, didn’t: 9365, tests: 9344, clinic: 9280, seeing: 9238, unvaccinated: 9125, idea: 9117, reason: 9105, gets: 9078, fear: 9026, coming: 9004, your: 8966, love: 8956, exercise: 8930, recover: 8873, often: 8868, course: 8844, transmission: 8808, ok: 8776, multiple: 8775, arent: 8726, known: 8722, staff: 8705, ‍: 8669, absolutely: 8630, plus: 8609, change: 8597, result: 8594, x: 8573, mass: 8569, rates: 8531, who: 8528, economy: 8510, media: 8508, job: 8497, wonder: 8488, sarscov: 8477, clear: 8474, agree: 8470, available: 8467, masking: 8464, wave: 8457, researchers: 8418, affected: 8398, struggling: 8372, theyre: 8346, shows: 8345, disabling: 8339, definitely: 8284, learn: 8262, lots: 8236, whole: 8225, bit: 8194, cdc: 8187, variant: 8181, effect: 8120, completely: 8118, sense: 8109, took: 8054, happen: 8044, patient: 8037, question: 8030, deal: 8010, half: 8010, ask: 8001, fine: 7994, report: 7988, catch: 7982, daily: 7933, increase: 7930, experts: 7928, caught: 7916, age: 7899, booster: 7886, cognitive: 7870, interesting: 7870, call: 7831, exactly: 7828, anxiety: 7809, plan: 7754, of: 7734, nhs: 7731, wait: 7726, guess: 7715, current: 7713, experiencing: 7710, developing: 7704, lack: 7685, at: 7667, reinfection: 7637, thinking: 7625, social: 7590, organ: 7579, lung: 7568, started: 7524, quite: 7514, response: 7513, parents: 7512, protection: 7512, worth: 7491, needed: 7484, story: 7449, alone: 7422, matter: 7409, short: 7401, called: 7396, most: 7386, potential: 7385, went: 7371, lead: 7341, pay: 7306, because: 7292, asymptomatic: 7263, small: 7240, among: 7230, march: 7216, related: 7210, id: 7210, recovered: 7203, place: 7174, share: 7170, tired: 7160, boosted: 7158, cannot: 7151, currently: 7130, causing: 7129, won’t: 7128, free: 7119, our: 7112, whether: 7111, we’re: 7092, k: 7089, affects: 7084, past: 7073, information: 7069, child: 7041, —: 7005, shit: 7002, complications: 6998, illnesses: 6980, rather: 6968, havent: 6958, happening: 6945, tested: 6929, twitter: 6929, based: 6926, nearly: 6917, aren’t: 6906, diagnosis: 6903, zero: 6900, n: 6889, then: 6885, several: 6877, leave: 6867, injury: 6832, significant: 6797, country: 6769, reported: 6760, per: 6734, diagnosed: 6727, smell: 6721, impacts: 6708, finally: 6708, lower: 6695, –: 6692, effective: 6677, diabetes: 6676, clinics: 6658, diseases: 6631, top: 6630, u: 6609, exist: 6595, worried: 6576, using: 6555, access: 6553, increased: 6549, affect: 6538, worry: 6523, three: 6505, literally: 6484, info: 6447, women: 6435, remember: 6428, knows: 6426, money: 6414, society: 6394, policy: 6377, worst: 6359, these: 6311, groups: 6293, kind: 6289, air: 6287, neurological: 6276, scientists: 6267, ignore: 6234, sounds: 6219, instead: 6211, following: 6203, unable: 6197, on: 6180, developed: 6165, rare: 6164, second: 6156, cure: 6154, despite: 6142, large: 6135, lungs: 6105, they’re: 6098, recent: 6085, follow: 6079, cost: 6079, energy: 6068, ongoing: 6065, sleep: 6052, after: 6040, link: 6019, consequences: 6011, chances: 6000, severity: 5985, mind: 5976, however: 5968, understanding: 5959, control: 5950, hospitalized: 5949, tweet: 5949, postviral: 5933, taken: 5933, autoimmune: 5929, explain: 5927, check: 5923, initial: 5921, face: 5911, families: 5908, attention: 5907, event: 5869, delta: 5863, physical: 5861, govt: 5850, gone: 5839, advice: 5825, hit: 5798, comes: 5786, whats: 5783, clots: 5776, th: 5771, permanent: 5764, reality: 5764, happy: 5742, hell: 5717, glad: 5709, ignoring: 5698, pots: 5692, head: 5681, stuff: 5665, concern: 5663, run: 5654, haven’t: 5644, will: 5638, state: 5629, hospitals: 5622, unfortunately: 5616, major: 5613, learning: 5612, very: 5602, single: 5601, helps: 5596, jab: 5596, clinical: 5567, levels: 5546, level: 5537, results: 5535, showing: 5516, latest: 5512, workforce: 5510, listen: 5473, looks: 5470, measures: 5469, imagine: 5455, hopefully: 5442, dangerous: 5441, waiting: 5419, list: 5417, feels: 5415, concerned: 5399, reading: 5392, self: 5388, easy: 5374, associated: 5362, from: 5361, lol: 5359, funding: 5359, open: 5349, poor: 5333, happens: 5329, add: 5327, systems: 5313, according: 5294, covid’: 5292, hospitalization: 5286, taste: 5279, awful: 5276, hoping: 5274, recently: 5266, cancer: 5264, does: 5261, reinfections: 5259, anymore: 5253, watch: 5248, catching: 5241, i’d: 5240, perhaps: 5213, sucks: 5211, mostly: 5205, immunocompromised: 5197, ba: 5184, lets: 5183, teachers: 5155, yrs: 5154, include: 5139, consider: 5137, any: 5123, majority: 5120, possibly: 5109, over: 5108, outcomes: 5107, negative: 5107, none: 5107, felt: 5099, vs: 5090, decades: 5080, medicine: 5065, dysfunction: 5057, those: 5046, bed: 5046, insurance: 5036, inflammation: 5015, suggests: 5014, sad: 4994, starting: 4991, suffered: 4984, aware: 4978, spike: 4972, crisis: 4964, coronavirus: 4946, only: 4929, sharing: 4920, postcovid: 4919, helped: 4918, totally: 4917, persistent: 4916, daughter: 4915, hours: 4901, knew: 4901, couple: 4900, lingering: 4900, national: 4893, gonna: 4892, goes: 4890, ‘long: 4886, clearly: 4880, did: 4877, prevalence: 4872, lucky: 4865, treating: 4856, fucking: 4852, answer: 4845, finds: 4826, paxlovid: 4823, within: 4819, biden: 4815, saw: 4802, respiratory: 4800, quality: 4779, hes: 4772, ignored: 4767, shot: 4767, house: 4748, personal: 4743, sometimes: 4739, along: 4734, gt: 4727, depression: 4720, yesterday: 4716, mandates: 4715, fit: 4705, nobody: 4697, potentially: 4695, close: 4690, came: 4688, st: 4681, provide: 4674, focus: 4668, join: 4664, twice: 4655, extremely: 4654, experienced: 4647, breath: 4639, kill: 4628, joke: 4624, actual: 4621, here: 4616, walk: 4615, takes: 4610, sadly: 4606, telling: 4605, reporting: 4604, factors: 4602, loved: 4597, b: 4588, except: 4575, claim: 4574, behind: 4552, viruses: 4523, reduced: 4521, m: 4517, general: 4512, return: 4512, c: 4508, push: 4505, across: 4503, difficult: 4497, terrible: 4493, massive: 4490, questions: 4472, stress: 4471, education: 4468, were: 4446, set: 4445, lasting: 4440, key: 4436, ventilation: 4431, fight: 4426, forget: 4420, too: 4419, certainly: 4418, human: 4411, shots: 4404, breathing: 4404, scary: 4399, leading: 4395, team: 4384, treated: 4382, cough: 4376, ⁦⁩: 4375, keeping: 4375, suggest: 4373, sequelae: 4370, what’s: 4365, survivors: 4349, works: 4349, giving: 4347, happened: 4341, be: 4335, fun: 4334, wouldnt: 4322, man: 4322, individuals: 4309, prior: 4305, mine: 4296, wants: 4292, where: 4290, asking: 4286, simply: 4286, an: 4280, gp: 4280, type: 4269, economic: 4256, apparently: 4248, benefits: 4248, i’ll: 4247, reports: 4243, ways: 4243, had: 4224, members: 4221, hospitalizations: 4210, cells: 4195, boosters: 4188, unless: 4181, wife: 4169, unvaxxed: 4163, helping: 4141, reduces: 4129, answers: 4126, stories: 4119, personally: 4115, linked: 4108, night: 4102, nd: 4095, same: 4094, play: 4081, countries: 4077, beyond: 4074, together: 4073, difference: 4068, son: 4061, paper: 4053, rip: 4053, line: 4053, nice: 4047, basically: 4047, fuck: 4047, tried: 4046, failure: 4042, action: 4040, disabilities: 4038, burden: 4035, entire: 4034, luck: 4028, super: 4028, harm: 4014, hundreds: 4011, late: 4005, move: 3985, asked: 3979, vascular: 3978, exists: 3976, history: 3974, memory: 3962, he’s: 3957, therapy: 3954, words: 3940, function: 3925, anyway: 3921, act: 3920, form: 3914, forever: 3904, organs: 3904, devastating: 3904, hey: 3894, forward: 3881, resources: 3878, otherwise: 3878, truly: 3873, compared: 3864, changes: 3859, youve: 3857, weird: 3856, costs: 3854, eg: 3853, husband: 3852, increasing: 3849, excellent: 3844, blame: 3832, gotten: 3826, whatever: 3821, morning: 3820, which: 3819, amount: 3814, by: 3807, save: 3801, although: 3797, unknown: 3796, simple: 3793, breakthrough: 3786, scientific: 3785, approach: 3780, has: 3779, wasnt: 3777, finding: 3777, preventing: 3773, helpful: 3771, about: 3770, dose: 3769, fighting: 3769, injuries: 3768, changed: 3766, services: 3766, bring: 3763, lose: 3754, name: 3753, struggle: 3729, adverse: 3723, realize: 3722, horrible: 3713, mentioned: 3709, expect: 3702, stats: 3701, previous: 3698, microclots: 3692, beginning: 3692, figure: 3683, strategy: 3683, situation: 3677, definition: 3677, australia: 3676, published: 3674, icu: 3673, jobs: 3669, global: 3668, becoming: 3666, speak: 3664, safety: 3663, andor: 3662, "
          ]
        }
      ],
      "source": [
        "# Print the least common words and their frequencies\n",
        "most_common_words = word_freq.most_common(1000)\n",
        "\n",
        "print(\"Most common words and their frequencies:\")\n",
        "for word, count in most_common_words:\n",
        "    print(f\"{word}: {count}\", end=', ')"
      ]
    },
    {
      "cell_type": "code",
      "source": [
        "df"
      ],
      "metadata": {
        "colab": {
          "base_uri": "https://localhost:8080/",
          "height": 423
        },
        "id": "_zkCEbott-_a",
        "outputId": "062f8332-121c-47f2-862d-7f32357c4d57"
      },
      "execution_count": 28,
      "outputs": [
        {
          "output_type": "execute_result",
          "data": {
            "text/plain": [
              "                              Date             User  \\\n",
              "0        2022-01-31 23:59:18+00:00    RobocapFriend   \n",
              "1        2022-01-31 23:59:18+00:00   LupusWarrior69   \n",
              "2        2022-01-31 23:58:12+00:00       ElsaOrgana   \n",
              "3        2022-01-31 23:57:59+00:00   WilliamAHirsch   \n",
              "4        2022-01-31 23:57:58+00:00  persistingvirus   \n",
              "...                            ...              ...   \n",
              "1465844  2022-09-01 00:00:53+00:00      ahandvanish   \n",
              "1465845  2022-09-01 00:00:53+00:00       Suemonti57   \n",
              "1465846  2022-09-01 00:00:38+00:00          KariDru   \n",
              "1465847  2022-09-01 00:00:18+00:00         twogukuk   \n",
              "1465848  2022-09-01 00:00:00+00:00  getvaxxedpeople   \n",
              "\n",
              "                                                    Tweets  \n",
              "0        my sinlaw covid months ago she still long covi...  \n",
              "1                      long covid sucks but make look sexy  \n",
              "2        it’s one month long covid solidarity one fed l...  \n",
              "3        living covid also means lifelong health proble...  \n",
              "4        long covid scientists agreed leading theory sy...  \n",
              "...                                                    ...  \n",
              "1465844  gotos body politic also put together list trus...  \n",
              "1465845  how many times prepared get covid even though ...  \n",
              "1465846  longcovid life kettle beeped fenris settled fu...  \n",
              "1465847  have seen symptoms long covid fits description...  \n",
              "1465848                      millions cant work long covid  \n",
              "\n",
              "[1465846 rows x 3 columns]"
            ],
            "text/html": [
              "\n",
              "  <div id=\"df-0768d467-bfb2-4b51-8713-fcd706cac332\" class=\"colab-df-container\">\n",
              "    <div>\n",
              "<style scoped>\n",
              "    .dataframe tbody tr th:only-of-type {\n",
              "        vertical-align: middle;\n",
              "    }\n",
              "\n",
              "    .dataframe tbody tr th {\n",
              "        vertical-align: top;\n",
              "    }\n",
              "\n",
              "    .dataframe thead th {\n",
              "        text-align: right;\n",
              "    }\n",
              "</style>\n",
              "<table border=\"1\" class=\"dataframe\">\n",
              "  <thead>\n",
              "    <tr style=\"text-align: right;\">\n",
              "      <th></th>\n",
              "      <th>Date</th>\n",
              "      <th>User</th>\n",
              "      <th>Tweets</th>\n",
              "    </tr>\n",
              "  </thead>\n",
              "  <tbody>\n",
              "    <tr>\n",
              "      <th>0</th>\n",
              "      <td>2022-01-31 23:59:18+00:00</td>\n",
              "      <td>RobocapFriend</td>\n",
              "      <td>my sinlaw covid months ago she still long covi...</td>\n",
              "    </tr>\n",
              "    <tr>\n",
              "      <th>1</th>\n",
              "      <td>2022-01-31 23:59:18+00:00</td>\n",
              "      <td>LupusWarrior69</td>\n",
              "      <td>long covid sucks but make look sexy</td>\n",
              "    </tr>\n",
              "    <tr>\n",
              "      <th>2</th>\n",
              "      <td>2022-01-31 23:58:12+00:00</td>\n",
              "      <td>ElsaOrgana</td>\n",
              "      <td>it’s one month long covid solidarity one fed l...</td>\n",
              "    </tr>\n",
              "    <tr>\n",
              "      <th>3</th>\n",
              "      <td>2022-01-31 23:57:59+00:00</td>\n",
              "      <td>WilliamAHirsch</td>\n",
              "      <td>living covid also means lifelong health proble...</td>\n",
              "    </tr>\n",
              "    <tr>\n",
              "      <th>4</th>\n",
              "      <td>2022-01-31 23:57:58+00:00</td>\n",
              "      <td>persistingvirus</td>\n",
              "      <td>long covid scientists agreed leading theory sy...</td>\n",
              "    </tr>\n",
              "    <tr>\n",
              "      <th>...</th>\n",
              "      <td>...</td>\n",
              "      <td>...</td>\n",
              "      <td>...</td>\n",
              "    </tr>\n",
              "    <tr>\n",
              "      <th>1465844</th>\n",
              "      <td>2022-09-01 00:00:53+00:00</td>\n",
              "      <td>ahandvanish</td>\n",
              "      <td>gotos body politic also put together list trus...</td>\n",
              "    </tr>\n",
              "    <tr>\n",
              "      <th>1465845</th>\n",
              "      <td>2022-09-01 00:00:53+00:00</td>\n",
              "      <td>Suemonti57</td>\n",
              "      <td>how many times prepared get covid even though ...</td>\n",
              "    </tr>\n",
              "    <tr>\n",
              "      <th>1465846</th>\n",
              "      <td>2022-09-01 00:00:38+00:00</td>\n",
              "      <td>KariDru</td>\n",
              "      <td>longcovid life kettle beeped fenris settled fu...</td>\n",
              "    </tr>\n",
              "    <tr>\n",
              "      <th>1465847</th>\n",
              "      <td>2022-09-01 00:00:18+00:00</td>\n",
              "      <td>twogukuk</td>\n",
              "      <td>have seen symptoms long covid fits description...</td>\n",
              "    </tr>\n",
              "    <tr>\n",
              "      <th>1465848</th>\n",
              "      <td>2022-09-01 00:00:00+00:00</td>\n",
              "      <td>getvaxxedpeople</td>\n",
              "      <td>millions cant work long covid</td>\n",
              "    </tr>\n",
              "  </tbody>\n",
              "</table>\n",
              "<p>1465846 rows × 3 columns</p>\n",
              "</div>\n",
              "    <div class=\"colab-df-buttons\">\n",
              "\n",
              "  <div class=\"colab-df-container\">\n",
              "    <button class=\"colab-df-convert\" onclick=\"convertToInteractive('df-0768d467-bfb2-4b51-8713-fcd706cac332')\"\n",
              "            title=\"Convert this dataframe to an interactive table.\"\n",
              "            style=\"display:none;\">\n",
              "\n",
              "  <svg xmlns=\"http://www.w3.org/2000/svg\" height=\"24px\" viewBox=\"0 -960 960 960\">\n",
              "    <path d=\"M120-120v-720h720v720H120Zm60-500h600v-160H180v160Zm220 220h160v-160H400v160Zm0 220h160v-160H400v160ZM180-400h160v-160H180v160Zm440 0h160v-160H620v160ZM180-180h160v-160H180v160Zm440 0h160v-160H620v160Z\"/>\n",
              "  </svg>\n",
              "    </button>\n",
              "\n",
              "  <style>\n",
              "    .colab-df-container {\n",
              "      display:flex;\n",
              "      gap: 12px;\n",
              "    }\n",
              "\n",
              "    .colab-df-convert {\n",
              "      background-color: #E8F0FE;\n",
              "      border: none;\n",
              "      border-radius: 50%;\n",
              "      cursor: pointer;\n",
              "      display: none;\n",
              "      fill: #1967D2;\n",
              "      height: 32px;\n",
              "      padding: 0 0 0 0;\n",
              "      width: 32px;\n",
              "    }\n",
              "\n",
              "    .colab-df-convert:hover {\n",
              "      background-color: #E2EBFA;\n",
              "      box-shadow: 0px 1px 2px rgba(60, 64, 67, 0.3), 0px 1px 3px 1px rgba(60, 64, 67, 0.15);\n",
              "      fill: #174EA6;\n",
              "    }\n",
              "\n",
              "    .colab-df-buttons div {\n",
              "      margin-bottom: 4px;\n",
              "    }\n",
              "\n",
              "    [theme=dark] .colab-df-convert {\n",
              "      background-color: #3B4455;\n",
              "      fill: #D2E3FC;\n",
              "    }\n",
              "\n",
              "    [theme=dark] .colab-df-convert:hover {\n",
              "      background-color: #434B5C;\n",
              "      box-shadow: 0px 1px 3px 1px rgba(0, 0, 0, 0.15);\n",
              "      filter: drop-shadow(0px 1px 2px rgba(0, 0, 0, 0.3));\n",
              "      fill: #FFFFFF;\n",
              "    }\n",
              "  </style>\n",
              "\n",
              "    <script>\n",
              "      const buttonEl =\n",
              "        document.querySelector('#df-0768d467-bfb2-4b51-8713-fcd706cac332 button.colab-df-convert');\n",
              "      buttonEl.style.display =\n",
              "        google.colab.kernel.accessAllowed ? 'block' : 'none';\n",
              "\n",
              "      async function convertToInteractive(key) {\n",
              "        const element = document.querySelector('#df-0768d467-bfb2-4b51-8713-fcd706cac332');\n",
              "        const dataTable =\n",
              "          await google.colab.kernel.invokeFunction('convertToInteractive',\n",
              "                                                    [key], {});\n",
              "        if (!dataTable) return;\n",
              "\n",
              "        const docLinkHtml = 'Like what you see? Visit the ' +\n",
              "          '<a target=\"_blank\" href=https://colab.research.google.com/notebooks/data_table.ipynb>data table notebook</a>'\n",
              "          + ' to learn more about interactive tables.';\n",
              "        element.innerHTML = '';\n",
              "        dataTable['output_type'] = 'display_data';\n",
              "        await google.colab.output.renderOutput(dataTable, element);\n",
              "        const docLink = document.createElement('div');\n",
              "        docLink.innerHTML = docLinkHtml;\n",
              "        element.appendChild(docLink);\n",
              "      }\n",
              "    </script>\n",
              "  </div>\n",
              "\n",
              "\n",
              "<div id=\"df-7e13960b-f03e-4e73-9af7-fedd18df846b\">\n",
              "  <button class=\"colab-df-quickchart\" onclick=\"quickchart('df-7e13960b-f03e-4e73-9af7-fedd18df846b')\"\n",
              "            title=\"Suggest charts.\"\n",
              "            style=\"display:none;\">\n",
              "\n",
              "<svg xmlns=\"http://www.w3.org/2000/svg\" height=\"24px\"viewBox=\"0 0 24 24\"\n",
              "     width=\"24px\">\n",
              "    <g>\n",
              "        <path d=\"M19 3H5c-1.1 0-2 .9-2 2v14c0 1.1.9 2 2 2h14c1.1 0 2-.9 2-2V5c0-1.1-.9-2-2-2zM9 17H7v-7h2v7zm4 0h-2V7h2v10zm4 0h-2v-4h2v4z\"/>\n",
              "    </g>\n",
              "</svg>\n",
              "  </button>\n",
              "\n",
              "<style>\n",
              "  .colab-df-quickchart {\n",
              "    background-color: #E8F0FE;\n",
              "    border: none;\n",
              "    border-radius: 50%;\n",
              "    cursor: pointer;\n",
              "    display: none;\n",
              "    fill: #1967D2;\n",
              "    height: 32px;\n",
              "    padding: 0 0 0 0;\n",
              "    width: 32px;\n",
              "  }\n",
              "\n",
              "  .colab-df-quickchart:hover {\n",
              "    background-color: #E2EBFA;\n",
              "    box-shadow: 0px 1px 2px rgba(60, 64, 67, 0.3), 0px 1px 3px 1px rgba(60, 64, 67, 0.15);\n",
              "    fill: #174EA6;\n",
              "  }\n",
              "\n",
              "  [theme=dark] .colab-df-quickchart {\n",
              "    background-color: #3B4455;\n",
              "    fill: #D2E3FC;\n",
              "  }\n",
              "\n",
              "  [theme=dark] .colab-df-quickchart:hover {\n",
              "    background-color: #434B5C;\n",
              "    box-shadow: 0px 1px 3px 1px rgba(0, 0, 0, 0.15);\n",
              "    filter: drop-shadow(0px 1px 2px rgba(0, 0, 0, 0.3));\n",
              "    fill: #FFFFFF;\n",
              "  }\n",
              "</style>\n",
              "\n",
              "  <script>\n",
              "    async function quickchart(key) {\n",
              "      const charts = await google.colab.kernel.invokeFunction(\n",
              "          'suggestCharts', [key], {});\n",
              "    }\n",
              "    (() => {\n",
              "      let quickchartButtonEl =\n",
              "        document.querySelector('#df-7e13960b-f03e-4e73-9af7-fedd18df846b button');\n",
              "      quickchartButtonEl.style.display =\n",
              "        google.colab.kernel.accessAllowed ? 'block' : 'none';\n",
              "    })();\n",
              "  </script>\n",
              "</div>\n",
              "    </div>\n",
              "  </div>\n"
            ]
          },
          "metadata": {},
          "execution_count": 28
        }
      ]
    },
    {
      "cell_type": "markdown",
      "metadata": {
        "id": "SrbeZq-NMLiX"
      },
      "source": [
        "##### Dividing tweets in categories"
      ]
    },
    {
      "cell_type": "code",
      "execution_count": 29,
      "metadata": {
        "id": "BugN4isA9MlS"
      },
      "outputs": [],
      "source": [
        "# Symptoms Keywords\n",
        "symptoms_keywords = [\n",
        "    \"symptoms\", \"infection\", \"suffering\", 'fever'\n",
        "    \"effects\", \"mild\", \"severe\", \"symptomatic\",\n",
        "    \"chronic\", \"infections\", \"acute\", \"cough\", \"fatigue\",\n",
        "    \"brain fog\", \"complications\", \"headaches\", \"breathlessness\"\n",
        "]\n",
        "\n",
        "# Treatments Keywords\n",
        "treatments_keywords = [\n",
        "    \"treatments\", \"vaccine\", \"prevent\", \"treatment\", \"vaccinated\",\n",
        "    \"recovery\", \"therapy\", \"healthcare\", \"support\", \"medication\",\n",
        "    \"boosters\", \"medical\", \"patients\", \"prevention\"\n",
        "]\n",
        "\n",
        "# Personal Experiences Keywords\n",
        "personal_keywords = [\n",
        "    \"i\", \"like\", \"me\", \"my\", \"im\", \"i’m\", \"i’ve\", \"experience\", \"feeling\",\n",
        "    \"know\", \"think\", \"hope\", \"tried\", \"felt\", \"remember\", \"personally\"\n",
        "]\n",
        "\n",
        "# Scientific Research Keywords\n",
        "research_keywords = [\n",
        "    \"preprint\", \"characterizing\", \"scientific\", \"research\", \"study\",\n",
        "    \"data\", \"evidence\", \"studies\", \"findings\"\n",
        "]"
      ]
    },
    {
      "cell_type": "code",
      "execution_count": 30,
      "metadata": {
        "id": "bfV3p4maak9T"
      },
      "outputs": [],
      "source": [
        "categories = []\n",
        "\n",
        "for i, tweet in enumerate(df['Tweets']):\n",
        "    tweet_lower = tweet.lower()\n",
        "    category = ''\n",
        "\n",
        "    if any(keyword in tweet_lower for keyword in symptoms_keywords):\n",
        "        category = 'symptoms'\n",
        "    elif any(keyword in tweet_lower for keyword in treatments_keywords):\n",
        "        category = 'treatments'\n",
        "    elif any(keyword in tweet_lower for keyword in research_keywords):\n",
        "        category = 'scientific research'\n",
        "    # elif any(keyword in tweet_lower for keyword in personal_keywords):\n",
        "    #     category = 'personal experiences'\n",
        "    else:\n",
        "        category = 'personal experiences'\n",
        "\n",
        "    categories.append(category)\n",
        "    # print(f\"Tweet: {tweet}, Category: {category}\")"
      ]
    },
    {
      "cell_type": "code",
      "execution_count": 31,
      "metadata": {
        "id": "Z6IXy1lpqX5e"
      },
      "outputs": [],
      "source": [
        "df['Category'] = categories"
      ]
    },
    {
      "cell_type": "code",
      "execution_count": 32,
      "metadata": {
        "colab": {
          "base_uri": "https://localhost:8080/",
          "height": 423
        },
        "id": "AmVHHKBObBfe",
        "outputId": "9fc0bcb0-95c5-43a3-b1e8-300d08d0b246"
      },
      "outputs": [
        {
          "output_type": "execute_result",
          "data": {
            "text/plain": [
              "                              Date             User  \\\n",
              "0        2022-01-31 23:59:18+00:00    RobocapFriend   \n",
              "1        2022-01-31 23:59:18+00:00   LupusWarrior69   \n",
              "2        2022-01-31 23:58:12+00:00       ElsaOrgana   \n",
              "3        2022-01-31 23:57:59+00:00   WilliamAHirsch   \n",
              "4        2022-01-31 23:57:58+00:00  persistingvirus   \n",
              "...                            ...              ...   \n",
              "1465844  2022-09-01 00:00:53+00:00      ahandvanish   \n",
              "1465845  2022-09-01 00:00:53+00:00       Suemonti57   \n",
              "1465846  2022-09-01 00:00:38+00:00          KariDru   \n",
              "1465847  2022-09-01 00:00:18+00:00         twogukuk   \n",
              "1465848  2022-09-01 00:00:00+00:00  getvaxxedpeople   \n",
              "\n",
              "                                                    Tweets  \\\n",
              "0        my sinlaw covid months ago she still long covi...   \n",
              "1                      long covid sucks but make look sexy   \n",
              "2        it’s one month long covid solidarity one fed l...   \n",
              "3        living covid also means lifelong health proble...   \n",
              "4        long covid scientists agreed leading theory sy...   \n",
              "...                                                    ...   \n",
              "1465844  gotos body politic also put together list trus...   \n",
              "1465845  how many times prepared get covid even though ...   \n",
              "1465846  longcovid life kettle beeped fenris settled fu...   \n",
              "1465847  have seen symptoms long covid fits description...   \n",
              "1465848                      millions cant work long covid   \n",
              "\n",
              "                     Category  \n",
              "0        personal experiences  \n",
              "1        personal experiences  \n",
              "2        personal experiences  \n",
              "3        personal experiences  \n",
              "4                    symptoms  \n",
              "...                       ...  \n",
              "1465844  personal experiences  \n",
              "1465845            treatments  \n",
              "1465846  personal experiences  \n",
              "1465847              symptoms  \n",
              "1465848  personal experiences  \n",
              "\n",
              "[1465846 rows x 4 columns]"
            ],
            "text/html": [
              "\n",
              "  <div id=\"df-76daa195-77b4-45ed-9945-d9b2f25d9439\" class=\"colab-df-container\">\n",
              "    <div>\n",
              "<style scoped>\n",
              "    .dataframe tbody tr th:only-of-type {\n",
              "        vertical-align: middle;\n",
              "    }\n",
              "\n",
              "    .dataframe tbody tr th {\n",
              "        vertical-align: top;\n",
              "    }\n",
              "\n",
              "    .dataframe thead th {\n",
              "        text-align: right;\n",
              "    }\n",
              "</style>\n",
              "<table border=\"1\" class=\"dataframe\">\n",
              "  <thead>\n",
              "    <tr style=\"text-align: right;\">\n",
              "      <th></th>\n",
              "      <th>Date</th>\n",
              "      <th>User</th>\n",
              "      <th>Tweets</th>\n",
              "      <th>Category</th>\n",
              "    </tr>\n",
              "  </thead>\n",
              "  <tbody>\n",
              "    <tr>\n",
              "      <th>0</th>\n",
              "      <td>2022-01-31 23:59:18+00:00</td>\n",
              "      <td>RobocapFriend</td>\n",
              "      <td>my sinlaw covid months ago she still long covi...</td>\n",
              "      <td>personal experiences</td>\n",
              "    </tr>\n",
              "    <tr>\n",
              "      <th>1</th>\n",
              "      <td>2022-01-31 23:59:18+00:00</td>\n",
              "      <td>LupusWarrior69</td>\n",
              "      <td>long covid sucks but make look sexy</td>\n",
              "      <td>personal experiences</td>\n",
              "    </tr>\n",
              "    <tr>\n",
              "      <th>2</th>\n",
              "      <td>2022-01-31 23:58:12+00:00</td>\n",
              "      <td>ElsaOrgana</td>\n",
              "      <td>it’s one month long covid solidarity one fed l...</td>\n",
              "      <td>personal experiences</td>\n",
              "    </tr>\n",
              "    <tr>\n",
              "      <th>3</th>\n",
              "      <td>2022-01-31 23:57:59+00:00</td>\n",
              "      <td>WilliamAHirsch</td>\n",
              "      <td>living covid also means lifelong health proble...</td>\n",
              "      <td>personal experiences</td>\n",
              "    </tr>\n",
              "    <tr>\n",
              "      <th>4</th>\n",
              "      <td>2022-01-31 23:57:58+00:00</td>\n",
              "      <td>persistingvirus</td>\n",
              "      <td>long covid scientists agreed leading theory sy...</td>\n",
              "      <td>symptoms</td>\n",
              "    </tr>\n",
              "    <tr>\n",
              "      <th>...</th>\n",
              "      <td>...</td>\n",
              "      <td>...</td>\n",
              "      <td>...</td>\n",
              "      <td>...</td>\n",
              "    </tr>\n",
              "    <tr>\n",
              "      <th>1465844</th>\n",
              "      <td>2022-09-01 00:00:53+00:00</td>\n",
              "      <td>ahandvanish</td>\n",
              "      <td>gotos body politic also put together list trus...</td>\n",
              "      <td>personal experiences</td>\n",
              "    </tr>\n",
              "    <tr>\n",
              "      <th>1465845</th>\n",
              "      <td>2022-09-01 00:00:53+00:00</td>\n",
              "      <td>Suemonti57</td>\n",
              "      <td>how many times prepared get covid even though ...</td>\n",
              "      <td>treatments</td>\n",
              "    </tr>\n",
              "    <tr>\n",
              "      <th>1465846</th>\n",
              "      <td>2022-09-01 00:00:38+00:00</td>\n",
              "      <td>KariDru</td>\n",
              "      <td>longcovid life kettle beeped fenris settled fu...</td>\n",
              "      <td>personal experiences</td>\n",
              "    </tr>\n",
              "    <tr>\n",
              "      <th>1465847</th>\n",
              "      <td>2022-09-01 00:00:18+00:00</td>\n",
              "      <td>twogukuk</td>\n",
              "      <td>have seen symptoms long covid fits description...</td>\n",
              "      <td>symptoms</td>\n",
              "    </tr>\n",
              "    <tr>\n",
              "      <th>1465848</th>\n",
              "      <td>2022-09-01 00:00:00+00:00</td>\n",
              "      <td>getvaxxedpeople</td>\n",
              "      <td>millions cant work long covid</td>\n",
              "      <td>personal experiences</td>\n",
              "    </tr>\n",
              "  </tbody>\n",
              "</table>\n",
              "<p>1465846 rows × 4 columns</p>\n",
              "</div>\n",
              "    <div class=\"colab-df-buttons\">\n",
              "\n",
              "  <div class=\"colab-df-container\">\n",
              "    <button class=\"colab-df-convert\" onclick=\"convertToInteractive('df-76daa195-77b4-45ed-9945-d9b2f25d9439')\"\n",
              "            title=\"Convert this dataframe to an interactive table.\"\n",
              "            style=\"display:none;\">\n",
              "\n",
              "  <svg xmlns=\"http://www.w3.org/2000/svg\" height=\"24px\" viewBox=\"0 -960 960 960\">\n",
              "    <path d=\"M120-120v-720h720v720H120Zm60-500h600v-160H180v160Zm220 220h160v-160H400v160Zm0 220h160v-160H400v160ZM180-400h160v-160H180v160Zm440 0h160v-160H620v160ZM180-180h160v-160H180v160Zm440 0h160v-160H620v160Z\"/>\n",
              "  </svg>\n",
              "    </button>\n",
              "\n",
              "  <style>\n",
              "    .colab-df-container {\n",
              "      display:flex;\n",
              "      gap: 12px;\n",
              "    }\n",
              "\n",
              "    .colab-df-convert {\n",
              "      background-color: #E8F0FE;\n",
              "      border: none;\n",
              "      border-radius: 50%;\n",
              "      cursor: pointer;\n",
              "      display: none;\n",
              "      fill: #1967D2;\n",
              "      height: 32px;\n",
              "      padding: 0 0 0 0;\n",
              "      width: 32px;\n",
              "    }\n",
              "\n",
              "    .colab-df-convert:hover {\n",
              "      background-color: #E2EBFA;\n",
              "      box-shadow: 0px 1px 2px rgba(60, 64, 67, 0.3), 0px 1px 3px 1px rgba(60, 64, 67, 0.15);\n",
              "      fill: #174EA6;\n",
              "    }\n",
              "\n",
              "    .colab-df-buttons div {\n",
              "      margin-bottom: 4px;\n",
              "    }\n",
              "\n",
              "    [theme=dark] .colab-df-convert {\n",
              "      background-color: #3B4455;\n",
              "      fill: #D2E3FC;\n",
              "    }\n",
              "\n",
              "    [theme=dark] .colab-df-convert:hover {\n",
              "      background-color: #434B5C;\n",
              "      box-shadow: 0px 1px 3px 1px rgba(0, 0, 0, 0.15);\n",
              "      filter: drop-shadow(0px 1px 2px rgba(0, 0, 0, 0.3));\n",
              "      fill: #FFFFFF;\n",
              "    }\n",
              "  </style>\n",
              "\n",
              "    <script>\n",
              "      const buttonEl =\n",
              "        document.querySelector('#df-76daa195-77b4-45ed-9945-d9b2f25d9439 button.colab-df-convert');\n",
              "      buttonEl.style.display =\n",
              "        google.colab.kernel.accessAllowed ? 'block' : 'none';\n",
              "\n",
              "      async function convertToInteractive(key) {\n",
              "        const element = document.querySelector('#df-76daa195-77b4-45ed-9945-d9b2f25d9439');\n",
              "        const dataTable =\n",
              "          await google.colab.kernel.invokeFunction('convertToInteractive',\n",
              "                                                    [key], {});\n",
              "        if (!dataTable) return;\n",
              "\n",
              "        const docLinkHtml = 'Like what you see? Visit the ' +\n",
              "          '<a target=\"_blank\" href=https://colab.research.google.com/notebooks/data_table.ipynb>data table notebook</a>'\n",
              "          + ' to learn more about interactive tables.';\n",
              "        element.innerHTML = '';\n",
              "        dataTable['output_type'] = 'display_data';\n",
              "        await google.colab.output.renderOutput(dataTable, element);\n",
              "        const docLink = document.createElement('div');\n",
              "        docLink.innerHTML = docLinkHtml;\n",
              "        element.appendChild(docLink);\n",
              "      }\n",
              "    </script>\n",
              "  </div>\n",
              "\n",
              "\n",
              "<div id=\"df-8c8e47c3-9c92-44df-93bc-c48986f1b7b3\">\n",
              "  <button class=\"colab-df-quickchart\" onclick=\"quickchart('df-8c8e47c3-9c92-44df-93bc-c48986f1b7b3')\"\n",
              "            title=\"Suggest charts.\"\n",
              "            style=\"display:none;\">\n",
              "\n",
              "<svg xmlns=\"http://www.w3.org/2000/svg\" height=\"24px\"viewBox=\"0 0 24 24\"\n",
              "     width=\"24px\">\n",
              "    <g>\n",
              "        <path d=\"M19 3H5c-1.1 0-2 .9-2 2v14c0 1.1.9 2 2 2h14c1.1 0 2-.9 2-2V5c0-1.1-.9-2-2-2zM9 17H7v-7h2v7zm4 0h-2V7h2v10zm4 0h-2v-4h2v4z\"/>\n",
              "    </g>\n",
              "</svg>\n",
              "  </button>\n",
              "\n",
              "<style>\n",
              "  .colab-df-quickchart {\n",
              "    background-color: #E8F0FE;\n",
              "    border: none;\n",
              "    border-radius: 50%;\n",
              "    cursor: pointer;\n",
              "    display: none;\n",
              "    fill: #1967D2;\n",
              "    height: 32px;\n",
              "    padding: 0 0 0 0;\n",
              "    width: 32px;\n",
              "  }\n",
              "\n",
              "  .colab-df-quickchart:hover {\n",
              "    background-color: #E2EBFA;\n",
              "    box-shadow: 0px 1px 2px rgba(60, 64, 67, 0.3), 0px 1px 3px 1px rgba(60, 64, 67, 0.15);\n",
              "    fill: #174EA6;\n",
              "  }\n",
              "\n",
              "  [theme=dark] .colab-df-quickchart {\n",
              "    background-color: #3B4455;\n",
              "    fill: #D2E3FC;\n",
              "  }\n",
              "\n",
              "  [theme=dark] .colab-df-quickchart:hover {\n",
              "    background-color: #434B5C;\n",
              "    box-shadow: 0px 1px 3px 1px rgba(0, 0, 0, 0.15);\n",
              "    filter: drop-shadow(0px 1px 2px rgba(0, 0, 0, 0.3));\n",
              "    fill: #FFFFFF;\n",
              "  }\n",
              "</style>\n",
              "\n",
              "  <script>\n",
              "    async function quickchart(key) {\n",
              "      const charts = await google.colab.kernel.invokeFunction(\n",
              "          'suggestCharts', [key], {});\n",
              "    }\n",
              "    (() => {\n",
              "      let quickchartButtonEl =\n",
              "        document.querySelector('#df-8c8e47c3-9c92-44df-93bc-c48986f1b7b3 button');\n",
              "      quickchartButtonEl.style.display =\n",
              "        google.colab.kernel.accessAllowed ? 'block' : 'none';\n",
              "    })();\n",
              "  </script>\n",
              "</div>\n",
              "    </div>\n",
              "  </div>\n"
            ]
          },
          "metadata": {},
          "execution_count": 32
        }
      ],
      "source": [
        "df"
      ]
    },
    {
      "cell_type": "code",
      "source": [
        "df.Category.value_counts()"
      ],
      "metadata": {
        "colab": {
          "base_uri": "https://localhost:8080/"
        },
        "id": "Zd_GMXcxqHkO",
        "outputId": "0bccba0d-5b76-4a84-a55e-36b356ac86d3"
      },
      "execution_count": 33,
      "outputs": [
        {
          "output_type": "execute_result",
          "data": {
            "text/plain": [
              "personal experiences    665212\n",
              "scientific research     318723\n",
              "symptoms                300551\n",
              "treatments              181360\n",
              "Name: Category, dtype: int64"
            ]
          },
          "metadata": {},
          "execution_count": 33
        }
      ]
    },
    {
      "cell_type": "code",
      "source": [
        "df_copy = df.copy()"
      ],
      "metadata": {
        "id": "oA3FvIQ3uAVh"
      },
      "execution_count": 34,
      "outputs": []
    },
    {
      "cell_type": "markdown",
      "metadata": {
        "id": "ICMCUEGwM9H_"
      },
      "source": [
        "#### Feature extraction"
      ]
    },
    {
      "cell_type": "code",
      "source": [
        "# Preprocessed text data as a list of sentences, where each sentence is a list of words\n",
        "sentences = [tweet.split() for tweet in df_copy['Tweets']]\n",
        "\n",
        "# Build a Word2Vec model\n",
        "model = Word2Vec(sentences, vector_size=100, window=5, min_count=1, sg=0)\n",
        "\n",
        "# Function to calculate document embedding\n",
        "def document_embedding(document, model):\n",
        "    word_vectors = [model.wv[word] for word in document if word in model.wv]\n",
        "    if not word_vectors:\n",
        "        return None\n",
        "    doc_embedding = sum(word_vectors) / len(word_vectors)\n",
        "    return doc_embedding"
      ],
      "metadata": {
        "id": "s5xAW1ZHdn8T"
      },
      "execution_count": 35,
      "outputs": []
    },
    {
      "cell_type": "code",
      "source": [
        "# Sample a subset of the data\n",
        "sample_size = 20000  # Adjust this as needed\n",
        "sample_indices = np.random.choice(df_copy.index, size=sample_size, replace=False)\n",
        "sample_data = df_copy.loc[sample_indices]"
      ],
      "metadata": {
        "id": "Q3A5qZk2d_EZ"
      },
      "execution_count": 36,
      "outputs": []
    },
    {
      "cell_type": "code",
      "source": [
        "# Create a feature matrix and category labels\n",
        "X = []\n",
        "y = []\n",
        "\n",
        "for idx, row in sample_data.iterrows():\n",
        "    tweet = row['Tweets'].split()\n",
        "    embedding = document_embedding(tweet, model)\n",
        "    if embedding is not None:\n",
        "        X.append(embedding)\n",
        "        y.append(row['Category'])\n",
        "\n",
        "X = np.array(X)\n",
        "y = np.array(y)"
      ],
      "metadata": {
        "id": "pQRHW_QWXyYv"
      },
      "execution_count": 37,
      "outputs": []
    },
    {
      "cell_type": "markdown",
      "metadata": {
        "id": "NNw59HxIP9Oc"
      },
      "source": [
        "#### Train and test split"
      ]
    },
    {
      "cell_type": "code",
      "source": [
        "# Split the data into training and testing sets\n",
        "X_train, X_test, y_train, y_test = train_test_split(X, y, test_size=0.2, random_state=42)"
      ],
      "metadata": {
        "id": "cN_8r0c7eHGU"
      },
      "execution_count": 38,
      "outputs": []
    },
    {
      "cell_type": "markdown",
      "metadata": {
        "id": "QvxPHv2xTzbi"
      },
      "source": [
        "#### Support Vector Classifier - SVC"
      ]
    },
    {
      "cell_type": "code",
      "source": [
        "# Train a Support Vector Machine (SVM) classifier\n",
        "svm_classifier = SVC()\n",
        "svm_classifier.fit(X_train, y_train)"
      ],
      "metadata": {
        "colab": {
          "base_uri": "https://localhost:8080/",
          "height": 74
        },
        "id": "wFP02CfseH6A",
        "outputId": "bff9ea62-4adb-4f50-fa87-6587d760473c"
      },
      "execution_count": 39,
      "outputs": [
        {
          "output_type": "execute_result",
          "data": {
            "text/plain": [
              "SVC()"
            ],
            "text/html": [
              "<style>#sk-container-id-1 {color: black;background-color: white;}#sk-container-id-1 pre{padding: 0;}#sk-container-id-1 div.sk-toggleable {background-color: white;}#sk-container-id-1 label.sk-toggleable__label {cursor: pointer;display: block;width: 100%;margin-bottom: 0;padding: 0.3em;box-sizing: border-box;text-align: center;}#sk-container-id-1 label.sk-toggleable__label-arrow:before {content: \"▸\";float: left;margin-right: 0.25em;color: #696969;}#sk-container-id-1 label.sk-toggleable__label-arrow:hover:before {color: black;}#sk-container-id-1 div.sk-estimator:hover label.sk-toggleable__label-arrow:before {color: black;}#sk-container-id-1 div.sk-toggleable__content {max-height: 0;max-width: 0;overflow: hidden;text-align: left;background-color: #f0f8ff;}#sk-container-id-1 div.sk-toggleable__content pre {margin: 0.2em;color: black;border-radius: 0.25em;background-color: #f0f8ff;}#sk-container-id-1 input.sk-toggleable__control:checked~div.sk-toggleable__content {max-height: 200px;max-width: 100%;overflow: auto;}#sk-container-id-1 input.sk-toggleable__control:checked~label.sk-toggleable__label-arrow:before {content: \"▾\";}#sk-container-id-1 div.sk-estimator input.sk-toggleable__control:checked~label.sk-toggleable__label {background-color: #d4ebff;}#sk-container-id-1 div.sk-label input.sk-toggleable__control:checked~label.sk-toggleable__label {background-color: #d4ebff;}#sk-container-id-1 input.sk-hidden--visually {border: 0;clip: rect(1px 1px 1px 1px);clip: rect(1px, 1px, 1px, 1px);height: 1px;margin: -1px;overflow: hidden;padding: 0;position: absolute;width: 1px;}#sk-container-id-1 div.sk-estimator {font-family: monospace;background-color: #f0f8ff;border: 1px dotted black;border-radius: 0.25em;box-sizing: border-box;margin-bottom: 0.5em;}#sk-container-id-1 div.sk-estimator:hover {background-color: #d4ebff;}#sk-container-id-1 div.sk-parallel-item::after {content: \"\";width: 100%;border-bottom: 1px solid gray;flex-grow: 1;}#sk-container-id-1 div.sk-label:hover label.sk-toggleable__label {background-color: #d4ebff;}#sk-container-id-1 div.sk-serial::before {content: \"\";position: absolute;border-left: 1px solid gray;box-sizing: border-box;top: 0;bottom: 0;left: 50%;z-index: 0;}#sk-container-id-1 div.sk-serial {display: flex;flex-direction: column;align-items: center;background-color: white;padding-right: 0.2em;padding-left: 0.2em;position: relative;}#sk-container-id-1 div.sk-item {position: relative;z-index: 1;}#sk-container-id-1 div.sk-parallel {display: flex;align-items: stretch;justify-content: center;background-color: white;position: relative;}#sk-container-id-1 div.sk-item::before, #sk-container-id-1 div.sk-parallel-item::before {content: \"\";position: absolute;border-left: 1px solid gray;box-sizing: border-box;top: 0;bottom: 0;left: 50%;z-index: -1;}#sk-container-id-1 div.sk-parallel-item {display: flex;flex-direction: column;z-index: 1;position: relative;background-color: white;}#sk-container-id-1 div.sk-parallel-item:first-child::after {align-self: flex-end;width: 50%;}#sk-container-id-1 div.sk-parallel-item:last-child::after {align-self: flex-start;width: 50%;}#sk-container-id-1 div.sk-parallel-item:only-child::after {width: 0;}#sk-container-id-1 div.sk-dashed-wrapped {border: 1px dashed gray;margin: 0 0.4em 0.5em 0.4em;box-sizing: border-box;padding-bottom: 0.4em;background-color: white;}#sk-container-id-1 div.sk-label label {font-family: monospace;font-weight: bold;display: inline-block;line-height: 1.2em;}#sk-container-id-1 div.sk-label-container {text-align: center;}#sk-container-id-1 div.sk-container {/* jupyter's `normalize.less` sets `[hidden] { display: none; }` but bootstrap.min.css set `[hidden] { display: none !important; }` so we also need the `!important` here to be able to override the default hidden behavior on the sphinx rendered scikit-learn.org. See: https://github.com/scikit-learn/scikit-learn/issues/21755 */display: inline-block !important;position: relative;}#sk-container-id-1 div.sk-text-repr-fallback {display: none;}</style><div id=\"sk-container-id-1\" class=\"sk-top-container\"><div class=\"sk-text-repr-fallback\"><pre>SVC()</pre><b>In a Jupyter environment, please rerun this cell to show the HTML representation or trust the notebook. <br />On GitHub, the HTML representation is unable to render, please try loading this page with nbviewer.org.</b></div><div class=\"sk-container\" hidden><div class=\"sk-item\"><div class=\"sk-estimator sk-toggleable\"><input class=\"sk-toggleable__control sk-hidden--visually\" id=\"sk-estimator-id-1\" type=\"checkbox\" checked><label for=\"sk-estimator-id-1\" class=\"sk-toggleable__label sk-toggleable__label-arrow\">SVC</label><div class=\"sk-toggleable__content\"><pre>SVC()</pre></div></div></div></div></div>"
            ]
          },
          "metadata": {},
          "execution_count": 39
        }
      ]
    },
    {
      "cell_type": "code",
      "source": [
        "# Predict categories on the test set\n",
        "y_pred = svm_classifier.predict(X_test)"
      ],
      "metadata": {
        "id": "annw05wJeLh6"
      },
      "execution_count": 40,
      "outputs": []
    },
    {
      "cell_type": "markdown",
      "metadata": {
        "id": "Nous0NwjUFF-"
      },
      "source": [
        "#### Evaluation scores"
      ]
    },
    {
      "cell_type": "code",
      "source": [
        "# Evaluate the model\n",
        "print(classification_report(y_test, y_pred))"
      ],
      "metadata": {
        "colab": {
          "base_uri": "https://localhost:8080/"
        },
        "id": "GNkNSfPBeOow",
        "outputId": "baf07ac3-0537-426d-f799-c4600abb1846"
      },
      "execution_count": 41,
      "outputs": [
        {
          "output_type": "stream",
          "name": "stdout",
          "text": [
            "                      precision    recall  f1-score   support\n",
            "\n",
            "personal experiences       0.79      0.92      0.85      1866\n",
            " scientific research       0.96      0.91      0.94       830\n",
            "            symptoms       0.77      0.67      0.72       799\n",
            "          treatments       0.70      0.47      0.56       505\n",
            "\n",
            "            accuracy                           0.81      4000\n",
            "           macro avg       0.81      0.74      0.77      4000\n",
            "        weighted avg       0.81      0.81      0.80      4000\n",
            "\n"
          ]
        }
      ]
    },
    {
      "cell_type": "markdown",
      "metadata": {
        "id": "9QngWVtjR15e"
      },
      "source": [
        "### Data visualization"
      ]
    },
    {
      "cell_type": "code",
      "execution_count": 42,
      "metadata": {
        "colab": {
          "base_uri": "https://localhost:8080/",
          "height": 507
        },
        "id": "YpkLuK97R5z6",
        "outputId": "065b7e9a-62fa-4647-f054-173062d0c46b"
      },
      "outputs": [
        {
          "output_type": "display_data",
          "data": {
            "text/plain": [
              "<Figure size 600x500 with 1 Axes>"
            ],
            "image/png": "[encoded data removed]"
          },
          "metadata": {}
        }
      ],
      "source": [
        "category_counts = df['Category'].value_counts()\n",
        "\n",
        "# Create a bar plot\n",
        "plt.figure(figsize=(6, 5))\n",
        "category_counts.plot(kind='bar')\n",
        "plt.title('Distribution of Categories')\n",
        "plt.xlabel('Categories')\n",
        "plt.ylabel('Number of Tweets')\n",
        "plt.xticks(rotation=45)\n",
        "plt.tight_layout()\n",
        "\n",
        "# Display the plot\n",
        "plt.show()"
      ]
    },
    {
      "cell_type": "code",
      "source": [
        "plt.figure(figsize=(6, 5))\n",
        "sns.displot(sample_data['Category'], bins=3, kde=True)\n",
        "plt.xticks(rotation=90)"
      ],
      "metadata": {
        "colab": {
          "base_uri": "https://localhost:8080/",
          "height": 745
        },
        "id": "qOt3wmqYleNl",
        "outputId": "e2a08400-9610-4e82-a373-b6a1be6721b4"
      },
      "execution_count": 46,
      "outputs": [
        {
          "output_type": "execute_result",
          "data": {
            "text/plain": [
              "([0, 1, 2, 3],\n",
              " [Text(0, 0, 'symptoms'),\n",
              "  Text(1, 0, 'personal experiences'),\n",
              "  Text(2, 0, 'treatments'),\n",
              "  Text(3, 0, 'scientific research')])"
            ]
          },
          "metadata": {},
          "execution_count": 46
        },
        {
          "output_type": "display_data",
          "data": {
            "text/plain": [
              "<Figure size 600x500 with 0 Axes>"
            ]
          },
          "metadata": {}
        },
        {
          "output_type": "display_data",
          "data": {
            "text/plain": [
              "<Figure size 500x500 with 1 Axes>"
            ],
            "image/png": "[encoded data removed]"
          },
          "metadata": {}
        }
      ]
    }
  ],
  "metadata": {
    "accelerator": "GPU",
    "colab": {
      "toc_visible": true,
      "provenance": [],
      "gpuType": "T4",
      "mount_file_id": "1uFT5uIeENNmCiPa0QzHOnDPHTBDuYIVe",
      "authorship_tag": "ABX9TyMQINNdLj/6OjV0dAknnaC6",
      "include_colab_link": true
    },
    "kernelspec": {
      "display_name": "Python 3",
      "name": "python3"
    },
    "language_info": {
      "name": "python"
    }
  },
  "nbformat": 4,
  "nbformat_minor": 0
}